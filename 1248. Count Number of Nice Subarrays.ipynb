{
 "cells": [
  {
   "cell_type": "code",
   "execution_count": 51,
   "metadata": {
    "ExecuteTime": {
     "end_time": "2020-01-21T03:53:42.995513Z",
     "start_time": "2020-01-21T03:53:42.970996Z"
    }
   },
   "outputs": [
    {
     "name": "stdout",
     "output_type": "stream",
     "text": [
      "2\n",
      "[2, 2]\n",
      "[2, 2]\n",
      "[2, 1]\n",
      "[1, 2]\n",
      "[2, 2]\n",
      "[2, 1]\n",
      "[1, 2]\n",
      "[2, 2]\n",
      "[2, 2]\n",
      "3\n",
      "[2, 2, 2]\n",
      "[2, 2, 1]\n",
      "[2, 1, 2]\n",
      "[1, 2, 2]\n",
      "[2, 2, 1]\n",
      "[2, 1, 2]\n",
      "[1, 2, 2]\n",
      "[2, 2, 2]\n",
      "4\n",
      "[2, 2, 2, 1]\n",
      "[2, 2, 1, 2]\n",
      "[2, 1, 2, 2]\n",
      "[1, 2, 2, 1]\n",
      "[2, 2, 1, 2]\n",
      "[2, 1, 2, 2]\n",
      "[1, 2, 2, 2]\n",
      "5\n",
      "[2, 2, 2, 1, 2]\n",
      "[2, 2, 1, 2, 2]\n",
      "[2, 1, 2, 2, 1]\n",
      "[1, 2, 2, 1, 2]\n",
      "[2, 2, 1, 2, 2]\n",
      "[2, 1, 2, 2, 2]\n",
      "6\n",
      "[2, 2, 2, 1, 2, 2]\n",
      "[2, 2, 1, 2, 2, 1]\n",
      "[2, 1, 2, 2, 1, 2]\n",
      "[1, 2, 2, 1, 2, 2]\n",
      "[2, 2, 1, 2, 2, 2]\n",
      "7\n",
      "[2, 2, 2, 1, 2, 2, 1]\n",
      "[2, 2, 1, 2, 2, 1, 2]\n",
      "[2, 1, 2, 2, 1, 2, 2]\n",
      "[1, 2, 2, 1, 2, 2, 2]\n",
      "8\n",
      "[2, 2, 2, 1, 2, 2, 1, 2]\n",
      "[2, 2, 1, 2, 2, 1, 2, 2]\n",
      "[2, 1, 2, 2, 1, 2, 2, 2]\n",
      "9\n",
      "[2, 2, 2, 1, 2, 2, 1, 2, 2]\n",
      "[2, 2, 1, 2, 2, 1, 2, 2, 2]\n",
      "10\n",
      "[2, 2, 2, 1, 2, 2, 1, 2, 2, 2]\n",
      "16\n"
     ]
    }
   ],
   "source": [
    "nums = [2,2,2,1,2,2,1,2,2,2]\n",
    "k = 2\n",
    "\n",
    "total = 0\n",
    "for i in range(k - 1, len(nums)):\n",
    "    print(i+1)\n",
    "    begin = 0\n",
    "    end = 0 + i + 1\n",
    "    while True:\n",
    "        \n",
    "        print(nums[begin:end])\n",
    "        if len(list(filter(lambda x:x%2==1, nums[begin:end]))) == k:\n",
    "            total += 1\n",
    "        \n",
    "        begin += 1\n",
    "        end += 1\n",
    "        \n",
    "        if end == len(nums) + 1:\n",
    "            break\n",
    "print(total)"
   ]
  },
  {
   "cell_type": "code",
   "execution_count": 35,
   "metadata": {
    "ExecuteTime": {
     "end_time": "2020-01-21T03:53:32.516539Z",
     "start_time": "2020-01-21T03:53:32.500995Z"
    }
   },
   "outputs": [
    {
     "name": "stdout",
     "output_type": "stream",
     "text": [
      "5\n",
      "[1, 1, 2, 1, 1]\n"
     ]
    },
    {
     "data": {
      "text/plain": [
       "4"
      ]
     },
     "execution_count": 35,
     "metadata": {},
     "output_type": "execute_result"
    }
   ],
   "source": [
    "nums = [1,1,2,1,1]\n",
    "print(len(nums))\n",
    "print(nums[0:5])\n",
    "len(list(filter(lambda x:x%2==1, nums)))"
   ]
  },
  {
   "cell_type": "code",
   "execution_count": 53,
   "metadata": {
    "ExecuteTime": {
     "end_time": "2020-01-21T03:55:51.776918Z",
     "start_time": "2020-01-21T03:55:51.756275Z"
    }
   },
   "outputs": [
    {
     "name": "stdout",
     "output_type": "stream",
     "text": [
      "2\n",
      "[2, 2]\n",
      "[2, 2]\n",
      "[2, 1]\n",
      "[1, 2]\n",
      "[2, 2]\n",
      "[2, 1]\n",
      "[1, 2]\n",
      "[2, 2]\n",
      "[2, 2]\n",
      "3\n",
      "[2, 2, 2]\n",
      "[2, 2, 1]\n",
      "[2, 1, 2]\n",
      "[1, 2, 2]\n",
      "[2, 2, 1]\n",
      "[2, 1, 2]\n",
      "[1, 2, 2]\n",
      "[2, 2, 2]\n",
      "4\n",
      "[2, 2, 2, 1]\n",
      "[2, 2, 1, 2]\n",
      "[2, 1, 2, 2]\n",
      "[1, 2, 2, 1]\n",
      "[2, 2, 1, 2]\n",
      "[2, 1, 2, 2]\n",
      "[1, 2, 2, 2]\n",
      "5\n",
      "[2, 2, 2, 1, 2]\n",
      "[2, 2, 1, 2, 2]\n",
      "[2, 1, 2, 2, 1]\n",
      "[1, 2, 2, 1, 2]\n",
      "[2, 2, 1, 2, 2]\n",
      "[2, 1, 2, 2, 2]\n",
      "6\n",
      "[2, 2, 2, 1, 2, 2]\n",
      "[2, 2, 1, 2, 2, 1]\n",
      "[2, 1, 2, 2, 1, 2]\n",
      "[1, 2, 2, 1, 2, 2]\n",
      "[2, 2, 1, 2, 2, 2]\n",
      "7\n",
      "[2, 2, 2, 1, 2, 2, 1]\n",
      "[2, 2, 1, 2, 2, 1, 2]\n",
      "[2, 1, 2, 2, 1, 2, 2]\n",
      "[1, 2, 2, 1, 2, 2, 2]\n",
      "8\n",
      "[2, 2, 2, 1, 2, 2, 1, 2]\n",
      "[2, 2, 1, 2, 2, 1, 2, 2]\n",
      "[2, 1, 2, 2, 1, 2, 2, 2]\n",
      "9\n",
      "[2, 2, 2, 1, 2, 2, 1, 2, 2]\n",
      "[2, 2, 1, 2, 2, 1, 2, 2, 2]\n",
      "10\n",
      "[2, 2, 2, 1, 2, 2, 1, 2, 2, 2]\n",
      "16\n"
     ]
    }
   ],
   "source": [
    "nums = [2,2,2,1,2,2,1,2,2,2]\n",
    "k = 2\n",
    "\n",
    "total = 0\n",
    "for i in range(k - 1, len(nums)):\n",
    "    print(i+1)\n",
    "    begin = 0\n",
    "    end = 0 + i + 1\n",
    "    while True:\n",
    "        \n",
    "        print(nums[begin:end])\n",
    "        \n",
    "        l = 0\n",
    "        for num in nums[begin:end]:\n",
    "            if num % 2 != 0:\n",
    "                l += 1\n",
    "        if l == k:\n",
    "            total += 1\n",
    "            \n",
    "        begin += 1\n",
    "        end += 1\n",
    "        \n",
    "        if end == len(nums) + 1:\n",
    "            break\n",
    "print(total)"
   ]
  },
  {
   "cell_type": "code",
   "execution_count": 56,
   "metadata": {
    "ExecuteTime": {
     "end_time": "2020-01-21T03:58:36.328484Z",
     "start_time": "2020-01-21T03:58:36.315196Z"
    }
   },
   "outputs": [
    {
     "name": "stdout",
     "output_type": "stream",
     "text": [
      "16\n"
     ]
    }
   ],
   "source": [
    "import collections\n",
    "nums = [2,2,2,1,2,2,1,2,2,2]\n",
    "k = 2\n",
    "\n",
    "q = collections.deque([1])\n",
    "ans = 0\n",
    "nums.append(1)\n",
    "for x in nums:\n",
    "    if x & 1:\n",
    "        if len(q)==k+1:\n",
    "            ans += q[0]*q[-1]\n",
    "            q.popleft()\n",
    "        q.append(1)       \n",
    "    else: q[-1] += 1\n",
    "        \n",
    "print(ans)"
   ]
  },
  {
   "cell_type": "code",
   "execution_count": null,
   "metadata": {},
   "outputs": [],
   "source": []
  }
 ],
 "metadata": {
  "kernelspec": {
   "display_name": "Python 3",
   "language": "python",
   "name": "python3"
  },
  "language_info": {
   "codemirror_mode": {
    "name": "ipython",
    "version": 3
   },
   "file_extension": ".py",
   "mimetype": "text/x-python",
   "name": "python",
   "nbconvert_exporter": "python",
   "pygments_lexer": "ipython3",
   "version": "3.7.6"
  },
  "varInspector": {
   "cols": {
    "lenName": 16,
    "lenType": 16,
    "lenVar": 40
   },
   "kernels_config": {
    "python": {
     "delete_cmd_postfix": "",
     "delete_cmd_prefix": "del ",
     "library": "var_list.py",
     "varRefreshCmd": "print(var_dic_list())"
    },
    "r": {
     "delete_cmd_postfix": ") ",
     "delete_cmd_prefix": "rm(",
     "library": "var_list.r",
     "varRefreshCmd": "cat(var_dic_list()) "
    }
   },
   "position": {
    "height": "648.5px",
    "left": "1249px",
    "right": "20px",
    "top": "120px",
    "width": "350px"
   },
   "types_to_exclude": [
    "module",
    "function",
    "builtin_function_or_method",
    "instance",
    "_Feature"
   ],
   "window_display": true
  }
 },
 "nbformat": 4,
 "nbformat_minor": 2
}
