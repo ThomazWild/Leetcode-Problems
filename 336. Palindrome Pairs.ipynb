{
 "cells": [
  {
   "cell_type": "code",
   "execution_count": null,
   "metadata": {},
   "outputs": [],
   "source": [
    "s = [\"abcd\",\"dcba\",\"lls\",\"s\",\"sssll\"]\n",
    "temp = []\n",
    "for i in range(len(s)):\n",
    "    for j in range(len(s)):\n",
    "        if i == j:\n",
    "            continue\n",
    "        try:    \n",
    "            if s[i][0] != s[j][-1]:\n",
    "                continue\n",
    "        except:\n",
    "            pass\n",
    "        t = s[i] + s[j]\n",
    "        if t == t[::-1]:\n",
    "            temp.append([i,j])\n",
    "            \n",
    "print(temp)"
   ]
  },
  {
   "cell_type": "code",
   "execution_count": null,
   "metadata": {},
   "outputs": [],
   "source": [
    "s = '1'\n",
    "print(s.isupper())\n",
    "print(s.islower())\n",
    "print(s.isdigit())"
   ]
  },
  {
   "cell_type": "code",
   "execution_count": 24,
   "metadata": {},
   "outputs": [
    {
     "name": "stdout",
     "output_type": "stream",
     "text": [
      "\"H\"*1*1+\"He\"*4*9+\"N\"+\"O\"*3*5+\"B\"*7+\"N\"*4*6+\"Li\"*20\n"
     ]
    }
   ],
   "source": [
    "s = \"H11He49NO35B7N46Li20\"\n",
    "temp = ''\n",
    "for i in range(len(s)):\n",
    "    if s[i].isdigit():\n",
    "        if i != len(s)-1:\n",
    "            if s[i+1].isdigit():\n",
    "                temp += '*'\n",
    "                temp += s[i]\n",
    "\n",
    "            elif s[i+1].isupper():\n",
    "                temp += '*'\n",
    "                temp += s[i]\n",
    "                temp += '+'\n",
    "            else:\n",
    "                temp += '*'\n",
    "                temp += s[i]\n",
    "        else:\n",
    "            if s[i-1].isdigit():\n",
    "                temp += s[i]\n",
    "            else:\n",
    "                temp += '*'\n",
    "                temp += s[i]\n",
    "            \n",
    "        \n",
    "    elif s[i].isupper():\n",
    "        if i != len(s)-1:\n",
    "            if s[i+1].isdigit():\n",
    "                temp += '\"'\n",
    "                temp += s[i]\n",
    "                temp += '\"'\n",
    "            elif s[i+1].isupper():\n",
    "                temp += '\"'\n",
    "                temp += s[i]\n",
    "                temp += '\"'\n",
    "                temp += '+'\n",
    "            elif s[i+1].islower():\n",
    "                temp += '\"'\n",
    "                temp += s[i]\n",
    "                temp += s[i+1]\n",
    "                temp += '\"'\n",
    "                if i+2 != len(s):\n",
    "                    if s[i+2].isupper():\n",
    "                        temp += '+'\n",
    "            else:\n",
    "                temp += '\"'\n",
    "                temp += s[i]\n",
    "                temp += '\"'\n",
    "        else:\n",
    "            temp += '\"'\n",
    "            temp += s[i]\n",
    "            temp += '\"'\n",
    "    else:\n",
    "        if s[i] == '(':\n",
    "                temp += '+'\n",
    "                temp += '('\n",
    "        if s[i] == ')':\n",
    "            temp += ')'\n",
    "print(temp)"
   ]
  },
  {
   "cell_type": "code",
   "execution_count": 3,
   "metadata": {},
   "outputs": [],
   "source": [
    "from collections import Counter "
   ]
  },
  {
   "cell_type": "code",
   "execution_count": 16,
   "metadata": {},
   "outputs": [],
   "source": [
    "def out(temp):\n",
    "    temp2 = eval(temp)\n",
    "    temp3 = []\n",
    "    for i in range(len(temp2)):\n",
    "        if temp2[i].isupper():\n",
    "            if i != len(temp2)-1:\n",
    "                if temp2[i+1].islower():\n",
    "                    temp3.append(temp2[i]+temp2[i+1])\n",
    "                else:\n",
    "                    temp3.append(temp2[i])\n",
    "            else:\n",
    "                temp3.append(temp2[i])\n",
    "    temp4 = Counter(temp3)\n",
    "    temp5 = sorted(temp4)\n",
    "    s = []\n",
    "    for key in temp5:\n",
    "        s.append(key)\n",
    "        if temp4[key] != 1:\n",
    "            s.append(temp4[key])\n",
    "    return ''.join(str(w) for w in s)"
   ]
  },
  {
   "cell_type": "code",
   "execution_count": 14,
   "metadata": {},
   "outputs": [
    {
     "name": "stdout",
     "output_type": "stream",
     "text": [
      "H2MgO2\n"
     ]
    }
   ],
   "source": [
    "print(out(temp))"
   ]
  },
  {
   "cell_type": "code",
   "execution_count": null,
   "metadata": {},
   "outputs": [],
   "source": []
  }
 ],
 "metadata": {
  "kernelspec": {
   "display_name": "Python 3",
   "language": "python",
   "name": "python3"
  },
  "varInspector": {
   "cols": {
    "lenName": 16,
    "lenType": 16,
    "lenVar": 40
   },
   "kernels_config": {
    "python": {
     "delete_cmd_postfix": "",
     "delete_cmd_prefix": "del ",
     "library": "var_list.py",
     "varRefreshCmd": "print(var_dic_list())"
    },
    "r": {
     "delete_cmd_postfix": ") ",
     "delete_cmd_prefix": "rm(",
     "library": "var_list.r",
     "varRefreshCmd": "cat(var_dic_list()) "
    }
   },
   "position": {
    "height": "469.5px",
    "left": "1250px",
    "right": "20px",
    "top": "120px",
    "width": "350px"
   },
   "types_to_exclude": [
    "module",
    "function",
    "builtin_function_or_method",
    "instance",
    "_Feature"
   ],
   "window_display": true
  }
 },
 "nbformat": 4,
 "nbformat_minor": 2
}
