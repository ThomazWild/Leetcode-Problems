{
 "cells": [
  {
   "cell_type": "code",
   "execution_count": 1,
   "metadata": {},
   "outputs": [],
   "source": [
    "class Solution:\n",
    "    def longestPalindrome(self, s: str) -> str:\n",
    "        collection = []\n",
    "        for i in range(1,len(s)):\n",
    "            temp_head = s[:i]\n",
    "            temp_tail = s[i:]\n",
    "            temp_head = temp_head[::-1]\n",
    "            \n",
    "            if len(temp_head) > len(temp_tail):\n",
    "                temp_head = temp_head[:(len(temp_tail))]\n",
    "            if len(temp_head) < len(temp_tail):\n",
    "                temp_tail = temp_tail[:(len(temp_head))]\n",
    "\n",
    "            for i in range(0,len(temp_head)+1):\n",
    "                if temp_head[:i] == temp_tail[:i]:\n",
    "                    temp = (temp_head[:i])[::-1] + temp_tail[:i]\n",
    "                    \n",
    "                    if temp:\n",
    "                        collection.append(temp)\n",
    "                        temp = ''\n",
    "                else:\n",
    "                    break\n",
    "\n",
    "        for i in range(1,len(s)):\n",
    "            temp_head = s[:i]\n",
    "            temp_mid = s[i]\n",
    "            temp_tail = s[i+1:]\n",
    "            temp_head = temp_head[::-1]\n",
    "\n",
    "            if len(temp_head) > len(temp_tail):\n",
    "                temp_head = temp_head[:(len(temp_tail))]\n",
    "            if len(temp_head) < len(temp_tail):\n",
    "                temp_tail = temp_tail[:(len(temp_head))]\n",
    "\n",
    "            for i in range(1,len(temp_head)+1):\n",
    "                if temp_head[:i] == temp_tail[:i]:\n",
    "                    temp = temp_head[:i][::-1] + temp_mid + temp_tail[:i]\n",
    "                    if temp:\n",
    "                        collection.append(temp)\n",
    "                        temp = ''\n",
    "                else: \n",
    "                    break\n",
    "        try: \n",
    "            return (max(collection, key=len))\n",
    "        except:\n",
    "            try:\n",
    "                return (s[0])\n",
    "            except:\n",
    "                return (\"\")"
   ]
  },
  {
   "cell_type": "code",
   "execution_count": 6,
   "metadata": {},
   "outputs": [
    {
     "name": "stdout",
     "output_type": "stream",
     "text": [
      "ANANA\n"
     ]
    }
   ],
   "source": [
    "s = 'BANANA'\n",
    "\n",
    "s"
   ]
  },
  {
   "cell_type": "code",
   "execution_count": null,
   "metadata": {},
   "outputs": [],
   "source": []
  }
 ],
 "metadata": {
  "kernelspec": {
   "display_name": "Python 3",
   "language": "python",
   "name": "python3"
  },
  "language_info": {
   "codemirror_mode": {
    "name": "ipython",
    "version": 3
   },
   "file_extension": ".py",
   "mimetype": "text/x-python",
   "name": "python",
   "nbconvert_exporter": "python",
   "pygments_lexer": "ipython3",
   "version": "3.7.4"
  },
  "varInspector": {
   "cols": {
    "lenName": 16,
    "lenType": 16,
    "lenVar": 40
   },
   "kernels_config": {
    "python": {
     "delete_cmd_postfix": "",
     "delete_cmd_prefix": "del ",
     "library": "var_list.py",
     "varRefreshCmd": "print(var_dic_list())"
    },
    "r": {
     "delete_cmd_postfix": ") ",
     "delete_cmd_prefix": "rm(",
     "library": "var_list.r",
     "varRefreshCmd": "cat(var_dic_list()) "
    }
   },
   "types_to_exclude": [
    "module",
    "function",
    "builtin_function_or_method",
    "instance",
    "_Feature"
   ],
   "window_display": true
  }
 },
 "nbformat": 4,
 "nbformat_minor": 2
}
