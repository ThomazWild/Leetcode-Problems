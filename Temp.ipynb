{
 "cells": [
  {
   "cell_type": "code",
   "execution_count": 32,
   "metadata": {},
   "outputs": [
    {
     "name": "stdout",
     "output_type": "stream",
     "text": [
      "These 2 words are anagrams\n"
     ]
    }
   ],
   "source": [
    "def check_anagrams_1(word1, word2):\n",
    "    s = 0\n",
    "    word1 = list(word1)\n",
    "    word2 = list(word2)\n",
    "    for i, w in enumerate(word1):\n",
    "        for l, q in enumerate(word2):\n",
    "            if w == q:\n",
    "                s += 1\n",
    "                word2.remove(q)\n",
    "                break\n",
    "    if s == len(word1):\n",
    "        return ('These 2 words are anagrams')\n",
    "    else: \n",
    "        return ('These 2 words are NOT anagrams')\n",
    "s = \"crca\"\n",
    "p = \"racc\"               \n",
    "print(check_anagrams_1(s,p))"
   ]
  },
  {
   "cell_type": "code",
   "execution_count": 37,
   "metadata": {},
   "outputs": [
    {
     "name": "stdout",
     "output_type": "stream",
     "text": [
      "These 2 words are NOT anagrams\n"
     ]
    }
   ],
   "source": [
    "def check_anagrams_2(word1, word2):\n",
    "    words = [i for i in s]\n",
    "    words_2 = [i for i in p]\n",
    "    words.sort()\n",
    "    words_2.sort()\n",
    "    if words == words_2:\n",
    "        return (\"These 2 words are anagrams\")\n",
    "    else:\n",
    "        return (\"These 2 words are NOT anagrams\")\n",
    "\n",
    "s = \"carr\"\n",
    "p = \"rac\"\n",
    "print(check_anagrams_2(s,p))"
   ]
  },
  {
   "cell_type": "code",
   "execution_count": null,
   "metadata": {},
   "outputs": [],
   "source": []
  },
  {
   "cell_type": "code",
   "execution_count": 54,
   "metadata": {},
   "outputs": [
    {
     "name": "stdout",
     "output_type": "stream",
     "text": [
      "These 2 words are anagrams\n",
      "Excution time: 0.0\n"
     ]
    }
   ],
   "source": [
    "import time\n",
    "\n",
    "\n",
    "def check(n,p):\n",
    "    if(sorted(n)== sorted(p)): \n",
    "        print(\"These 2 words are anagrams\")     \n",
    "          \n",
    "s1 =\"lisa\"\n",
    "s2 =\"sail\" \n",
    "\n",
    "t0 = time.time()\n",
    "check(s1, s2) \n",
    "t1 = time.time()\n",
    "\n",
    "print(\"Excution time:\", t0-t1)"
   ]
  },
  {
   "cell_type": "code",
   "execution_count": 9,
   "metadata": {},
   "outputs": [
    {
     "name": "stdout",
     "output_type": "stream",
     "text": [
      "['c', 'a', 'r']\n",
      "['r', 'a', 'c']\n"
     ]
    },
    {
     "ename": "AttributeError",
     "evalue": "'str' object has no attribute 'remove'",
     "output_type": "error",
     "traceback": [
      "\u001b[1;31m---------------------------------------------------------------------------\u001b[0m",
      "\u001b[1;31mAttributeError\u001b[0m                            Traceback (most recent call last)",
      "\u001b[1;32m<ipython-input-9-312b201dbb4f>\u001b[0m in \u001b[0;36m<module>\u001b[1;34m\u001b[0m\n\u001b[0;32m     11\u001b[0m \u001b[1;32mfor\u001b[0m \u001b[0mi\u001b[0m\u001b[1;33m,\u001b[0m\u001b[0mn\u001b[0m \u001b[1;32min\u001b[0m  \u001b[0menumerate\u001b[0m\u001b[1;33m(\u001b[0m\u001b[0ms\u001b[0m\u001b[1;33m)\u001b[0m\u001b[1;33m:\u001b[0m\u001b[1;33m\u001b[0m\u001b[1;33m\u001b[0m\u001b[0m\n\u001b[0;32m     12\u001b[0m     \u001b[1;32mif\u001b[0m \u001b[0mn\u001b[0m \u001b[1;32min\u001b[0m \u001b[0mp\u001b[0m\u001b[1;33m:\u001b[0m\u001b[1;33m\u001b[0m\u001b[1;33m\u001b[0m\u001b[0m\n\u001b[1;32m---> 13\u001b[1;33m         \u001b[0mp\u001b[0m\u001b[1;33m.\u001b[0m\u001b[0mremove\u001b[0m\u001b[1;33m(\u001b[0m\u001b[0mn\u001b[0m\u001b[1;33m)\u001b[0m\u001b[1;33m\u001b[0m\u001b[1;33m\u001b[0m\u001b[0m\n\u001b[0m\u001b[0;32m     14\u001b[0m     \u001b[0mprint\u001b[0m\u001b[1;33m(\u001b[0m\u001b[0mi\u001b[0m \u001b[1;33m,\u001b[0m \u001b[0mn\u001b[0m\u001b[1;33m)\u001b[0m\u001b[1;33m\u001b[0m\u001b[1;33m\u001b[0m\u001b[0m\n\u001b[0;32m     15\u001b[0m \u001b[1;33m\u001b[0m\u001b[0m\n",
      "\u001b[1;31mAttributeError\u001b[0m: 'str' object has no attribute 'remove'"
     ]
    }
   ],
   "source": [
    "s = \"car\"\n",
    "p = \"rac\"\n",
    "\n",
    "words = [i for i in s]\n",
    "words_2 = [i for i in p]\n",
    "    \n",
    "print(words)\n",
    "print(words_2)\n",
    "\n",
    "\n",
    "for i,n in  enumerate(s):\n",
    "    if n in p:\n",
    "        p.remove(n)\n",
    "    print(i , n)\n",
    "        "
   ]
  },
  {
   "cell_type": "code",
   "execution_count": 48,
   "metadata": {},
   "outputs": [
    {
     "name": "stdout",
     "output_type": "stream",
     "text": [
      "['c', 'a', 'r']\n",
      "<map object at 0x00000198234F5C88>\n",
      "411\n",
      "['r', 'a', 'c']\n",
      "<map object at 0x00000198234DDF48>\n",
      "411\n",
      "These 2 words are anagrams\n"
     ]
    }
   ],
   "source": [
    "s = \"cear\"\n",
    "p = \"race\"\n",
    "\n",
    "string_dec = map(lambda x: ord(x), s)\n",
    "string_2_dec = map(lambda x: ord(x), p)\n",
    "\n",
    "print(string)\n",
    "print(string_dec)\n",
    "print(sum(string_dec))\n",
    "\n",
    "print(string_2)\n",
    "print(string_2_dec)\n",
    "print(sum(string_2_dec))\n",
    "\n",
    "if sum(string_2_dec) == sum(string_dec):\n",
    "    print(\"These 2 words are anagrams\")"
   ]
  },
  {
   "cell_type": "code",
   "execution_count": 49,
   "metadata": {},
   "outputs": [
    {
     "ename": "TypeError",
     "evalue": "unsupported operand type(s) for -: 'str' and 'str'",
     "output_type": "error",
     "traceback": [
      "\u001b[1;31m---------------------------------------------------------------------------\u001b[0m",
      "\u001b[1;31mTypeError\u001b[0m                                 Traceback (most recent call last)",
      "\u001b[1;32m<ipython-input-49-9c78e2d0798f>\u001b[0m in \u001b[0;36m<module>\u001b[1;34m\u001b[0m\n\u001b[1;32m----> 1\u001b[1;33m \u001b[0mprint\u001b[0m\u001b[1;33m(\u001b[0m\u001b[0ms\u001b[0m \u001b[1;33m-\u001b[0m \u001b[0mp\u001b[0m\u001b[1;33m)\u001b[0m\u001b[1;33m\u001b[0m\u001b[1;33m\u001b[0m\u001b[0m\n\u001b[0m",
      "\u001b[1;31mTypeError\u001b[0m: unsupported operand type(s) for -: 'str' and 'str'"
     ]
    }
   ],
   "source": [
    "print(s - p)"
   ]
  },
  {
   "cell_type": "code",
   "execution_count": 20,
   "metadata": {},
   "outputs": [
    {
     "ename": "SyntaxError",
     "evalue": "invalid syntax (<ipython-input-20-67609875885d>, line 1)",
     "output_type": "error",
     "traceback": [
      "\u001b[1;36m  File \u001b[1;32m\"<ipython-input-20-67609875885d>\"\u001b[1;36m, line \u001b[1;32m1\u001b[0m\n\u001b[1;33m    ef anagram_solution1(s1,s2):\u001b[0m\n\u001b[1;37m                       ^\u001b[0m\n\u001b[1;31mSyntaxError\u001b[0m\u001b[1;31m:\u001b[0m invalid syntax\n"
     ]
    }
   ],
   "source": [
    "ef anagram_solution1(s1,s2):\n",
    "    a_list= list(s2)\n",
    "    pos1 = 0\n",
    "    still_ok= True\n",
    "    while pos1 < len(s1) and still_ok:\n",
    "        pos2 = 0 \n",
    "        found = False\n",
    "        while pos2 < len(a_list) and not found:\n",
    "            if s1[pos1] == a_list[pos2]:\n",
    "                found = True \n",
    "            else:\n",
    "                pos2 = pos2 + 1\n",
    "Anagram Detection Example\n",
    "if found: a_list[pos2] = None else: still_ok= False pos1 = pos1 + 1 return still_ok print(anagram_solution1('abcd','dcba'))"
   ]
  },
  {
   "cell_type": "code",
   "execution_count": 49,
   "metadata": {},
   "outputs": [
    {
     "name": "stdout",
     "output_type": "stream",
     "text": [
      "These 2 words are anagrams\n"
     ]
    }
   ],
   "source": [
    "\n",
    "def check_anagrams_3(word1, word2):\n",
    "    d1 = {}\n",
    "    d2 = {}\n",
    "    for i in word1:\n",
    "        d1[i] = d1.get(i,0)+1\n",
    "    for i in word2:\n",
    "        d2[i] = d2.get(i,0)+1\n",
    "    print(d1)\n",
    "    print(d2)\n",
    "    if d1 == d2:\n",
    "        return  (\"These 2 words are anagrams\")\n",
    "    else:\n",
    "        return  (\"These 2 words are NOT anagrams\")\n",
    "    \n",
    "s = \"car\"\n",
    "p = \"rac\"\n",
    "print(check_anagrams_2(s,p))"
   ]
  },
  {
   "cell_type": "code",
   "execution_count": null,
   "metadata": {},
   "outputs": [],
   "source": []
  },
  {
   "cell_type": "code",
   "execution_count": 17,
   "metadata": {},
   "outputs": [
    {
     "name": "stdout",
     "output_type": "stream",
     "text": [
      "0\n",
      "0\n"
     ]
    }
   ],
   "source": [
    "def DecimalToBinary(num):\n",
    "        if num > 1:\n",
    "            DecimalToBinary(num // 2)\n",
    "            print(num % 3)\n",
    "DecimalToBinary(6)"
   ]
  },
  {
   "cell_type": "code",
   "execution_count": 31,
   "metadata": {},
   "outputs": [
    {
     "data": {
      "text/plain": [
       "'0b110'"
      ]
     },
     "execution_count": 31,
     "metadata": {},
     "output_type": "execute_result"
    }
   ],
   "source": [
    "bin(6)"
   ]
  },
  {
   "cell_type": "code",
   "execution_count": 33,
   "metadata": {},
   "outputs": [
    {
     "name": "stdout",
     "output_type": "stream",
     "text": [
      "{0: 1}\n"
     ]
    }
   ],
   "source": [
    "h = {0:1}\n",
    "print(h)"
   ]
  },
  {
   "cell_type": "code",
   "execution_count": null,
   "metadata": {},
   "outputs": [],
   "source": []
  }
 ],
 "metadata": {
  "kernelspec": {
   "display_name": "Python 3",
   "language": "python",
   "name": "python3"
  },
  "language_info": {
   "codemirror_mode": {
    "name": "ipython",
    "version": 3
   },
   "file_extension": ".py",
   "mimetype": "text/x-python",
   "name": "python",
   "nbconvert_exporter": "python",
   "pygments_lexer": "ipython3",
   "version": "3.7.4"
  },
  "varInspector": {
   "cols": {
    "lenName": 16,
    "lenType": 16,
    "lenVar": 40
   },
   "kernels_config": {
    "python": {
     "delete_cmd_postfix": "",
     "delete_cmd_prefix": "del ",
     "library": "var_list.py",
     "varRefreshCmd": "print(var_dic_list())"
    },
    "r": {
     "delete_cmd_postfix": ") ",
     "delete_cmd_prefix": "rm(",
     "library": "var_list.r",
     "varRefreshCmd": "cat(var_dic_list()) "
    }
   },
   "types_to_exclude": [
    "module",
    "function",
    "builtin_function_or_method",
    "instance",
    "_Feature"
   ],
   "window_display": true
  }
 },
 "nbformat": 4,
 "nbformat_minor": 2
}
