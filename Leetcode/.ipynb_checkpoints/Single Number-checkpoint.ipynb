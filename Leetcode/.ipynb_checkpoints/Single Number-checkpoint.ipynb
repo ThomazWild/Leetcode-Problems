{
 "cells": [
  {
   "cell_type": "code",
   "execution_count": 2,
   "metadata": {
    "ExecuteTime": {
     "end_time": "2020-04-01T08:09:50.025035Z",
     "start_time": "2020-04-01T08:09:50.013023Z"
    }
   },
   "outputs": [
    {
     "name": "stdout",
     "output_type": "stream",
     "text": [
      "4\n",
      "1\n",
      "1\n",
      "2\n",
      "2\n",
      "2\n",
      "4\n"
     ]
    }
   ],
   "source": [
    "nums = [4,1,2,1,2]\n",
    "\n",
    "from collections import Counter\n",
    "count = Counter(nums)\n",
    "for i in count:\n",
    "    print(i)\n",
    "    print(count[i])\n",
    "    \n",
    "print([i for i in count if count[i] == 1][0])"
   ]
  },
  {
   "cell_type": "code",
   "execution_count": 3,
   "metadata": {
    "ExecuteTime": {
     "end_time": "2020-04-01T08:09:50.181021Z",
     "start_time": "2020-04-01T08:09:50.029023Z"
    }
   },
   "outputs": [
    {
     "name": "stdout",
     "output_type": "stream",
     "text": [
      "13\n",
      "18\n"
     ]
    }
   ],
   "source": [
    "nums = [5,1,3,1,3]\n",
    "\n",
    "real = sum(nums)\n",
    "\n",
    "print(sum(nums))\n",
    "print(sum(set(nums)) * 2)"
   ]
  },
  {
   "cell_type": "code",
   "execution_count": 7,
   "metadata": {
    "ExecuteTime": {
     "end_time": "2020-04-01T08:11:22.646623Z",
     "start_time": "2020-04-01T08:11:22.634631Z"
    }
   },
   "outputs": [
    {
     "name": "stdout",
     "output_type": "stream",
     "text": [
      "[1, 1, 2]\n",
      "2\n",
      "[1, 2, 3]\n",
      "3\n",
      "2\n",
      "[2, 3, 3]\n",
      "3\n"
     ]
    }
   ],
   "source": [
    "nums = [2,1,3,1,3]\n",
    "if len(nums) == 1:\n",
    "    \n",
    "nums2 = sorted(nums)\n",
    "for i in range(0,len(nums)-2):\n",
    "    print(nums2[i:i+3])\n",
    "    print(nums2[i+2])\n",
    "    if nums2[i] != nums2[i+1] != nums2[i+2]:\n",
    "        print(nums2[i+1])"
   ]
  }
 ],
 "metadata": {
  "kernelspec": {
   "display_name": "Python 3",
   "language": "python",
   "name": "python3"
  },
  "latex_envs": {
   "LaTeX_envs_menu_present": true,
   "autoclose": false,
   "autocomplete": true,
   "bibliofile": "biblio.bib",
   "cite_by": "apalike",
   "current_citInitial": 1,
   "eqLabelWithNumbers": true,
   "eqNumInitial": 1,
   "hotkeys": {
    "equation": "Ctrl-E",
    "itemize": "Ctrl-I"
   },
   "labels_anchors": false,
   "latex_user_defs": false,
   "report_style_numbering": false,
   "user_envs_cfg": false
  },
  "varInspector": {
   "cols": {
    "lenName": 16,
    "lenType": 16,
    "lenVar": 40
   },
   "kernels_config": {
    "python": {
     "delete_cmd_postfix": "",
     "delete_cmd_prefix": "del ",
     "library": "var_list.py",
     "varRefreshCmd": "print(var_dic_list())"
    },
    "r": {
     "delete_cmd_postfix": ") ",
     "delete_cmd_prefix": "rm(",
     "library": "var_list.r",
     "varRefreshCmd": "cat(var_dic_list()) "
    }
   },
   "position": {
    "height": "256.5px",
    "left": "1247px",
    "right": "20px",
    "top": "120px",
    "width": "352px"
   },
   "types_to_exclude": [
    "module",
    "function",
    "builtin_function_or_method",
    "instance",
    "_Feature"
   ],
   "window_display": true
  }
 },
 "nbformat": 4,
 "nbformat_minor": 4
}
