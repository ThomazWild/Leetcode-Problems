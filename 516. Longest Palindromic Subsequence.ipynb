{
 "cells": [
  {
   "cell_type": "code",
   "execution_count": 28,
   "metadata": {},
   "outputs": [
    {
     "name": "stdout",
     "output_type": "stream",
     "text": [
      "['a', 'b', 'c', 'a', 'b', 'c', 'a', 'b', 'c', 'a', 'b', 'c']\n",
      "[['a'], ['b'], ['c'], ['a'], ['b'], ['c'], ['a'], ['b'], ['c'], ['a'], ['b'], ['c']]\n",
      "['a', 'b', 'c', 'a', 'b', 'c', 'a', 'b', 'c', 'a', 'b', 'c']\n",
      "1\n"
     ]
    }
   ],
   "source": [
    "s = \"abcabcabcabc\"\n",
    "def longestPalindrome( input_string):\n",
    "    length = len(input_string)\n",
    "    l = [input_string[i:j+1] for i in range(length) for j in range(i,length)  if input_string[i:j+1] == input_string[i:j+1][::-1]]\n",
    "    return l\n",
    "\n",
    "        \n",
    "\n",
    "s1 = longestPalindrome(s)\n",
    "print(s1)\n",
    "\n",
    "s2 = longestPalindrome(s1)\n",
    "print(s2)\n",
    "\n",
    "s3 = [''.join(i) for i in s2]\n",
    "print(s3)\n",
    "\n",
    "s4 = list(dict.fromkeys(s3))\n",
    "\n",
    "s5 = [i for i in s4 if len(i) <= len(s)]\n",
    "\n",
    "print(len(max(s5,key = len)))"
   ]
  },
  {
   "cell_type": "code",
   "execution_count": null,
   "metadata": {},
   "outputs": [],
   "source": []
  },
  {
   "cell_type": "code",
   "execution_count": null,
   "metadata": {},
   "outputs": [],
   "source": []
  },
  {
   "cell_type": "code",
   "execution_count": null,
   "metadata": {},
   "outputs": [],
   "source": []
  },
  {
   "cell_type": "code",
   "execution_count": null,
   "metadata": {},
   "outputs": [],
   "source": []
  }
 ],
 "metadata": {
  "kernelspec": {
   "display_name": "Python 3",
   "language": "python",
   "name": "python3"
  },
  "language_info": {
   "codemirror_mode": {
    "name": "ipython",
    "version": 3
   },
   "file_extension": ".py",
   "mimetype": "text/x-python",
   "name": "python",
   "nbconvert_exporter": "python",
   "pygments_lexer": "ipython3",
   "version": "3.7.4"
  },
  "varInspector": {
   "cols": {
    "lenName": 16,
    "lenType": 16,
    "lenVar": 40
   },
   "kernels_config": {
    "python": {
     "delete_cmd_postfix": "",
     "delete_cmd_prefix": "del ",
     "library": "var_list.py",
     "varRefreshCmd": "print(var_dic_list())"
    },
    "r": {
     "delete_cmd_postfix": ") ",
     "delete_cmd_prefix": "rm(",
     "library": "var_list.r",
     "varRefreshCmd": "cat(var_dic_list()) "
    }
   },
   "position": {
    "height": "300.5px",
    "left": "1249px",
    "right": "20px",
    "top": "251px",
    "width": "350px"
   },
   "types_to_exclude": [
    "module",
    "function",
    "builtin_function_or_method",
    "instance",
    "_Feature"
   ],
   "window_display": true
  }
 },
 "nbformat": 4,
 "nbformat_minor": 2
}
