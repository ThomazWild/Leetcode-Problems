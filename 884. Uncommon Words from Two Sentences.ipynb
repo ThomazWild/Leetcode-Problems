{
 "cells": [
  {
   "cell_type": "code",
   "execution_count": null,
   "metadata": {},
   "outputs": [],
   "source": [
    "https://leetcode.com/problems/uncommon-words-from-two-sentences/"
   ]
  },
  {
   "cell_type": "code",
   "execution_count": null,
   "metadata": {},
   "outputs": [],
   "source": [
    "Share\n",
    "We are given two sentences A and B.  (A sentence is a string of space separated words.  Each word consists only of lowercase letters.)\n",
    "\n",
    "A word is uncommon if it appears exactly once in one of the sentences, and does not appear in the other sentence.\n",
    "\n",
    "Return a list of all uncommon words. \n",
    "\n",
    "You may return the list in any order.\n",
    "\n",
    " \n",
    "\n",
    "Example 1:\n",
    "\n",
    "Input: A = \"this apple is sweet\", B = \"this apple is sour\"\n",
    "Output: [\"sweet\",\"sour\"]\n",
    "Example 2:\n",
    "\n",
    "Input: A = \"apple apple\", B = \"banana\"\n",
    "Output: [\"banana\"]\n",
    " \n",
    "\n",
    "Note:\n",
    "\n",
    "0 <= A.length <= 200\n",
    "0 <= B.length <= 200\n",
    "A and B both contain only spaces and lowercase letters.\n",
    "Accepted\n",
    "53,592\n",
    "Submissions\n",
    "85,262"
   ]
  },
  {
   "cell_type": "code",
   "execution_count": null,
   "metadata": {},
   "outputs": [],
   "source": [
    "class Solution(object):\n",
    "    def uncommonFromSentences(self, A, B):\n",
    "        \"\"\"\n",
    "        :type A: str\n",
    "        :type B: str\n",
    "        :rtype: List[str]\n",
    "        \"\"\"\n",
    "        A = str(A).split()\n",
    "        B = str(B).split()\n",
    "        temp = []\n",
    "        for i in A:\n",
    "            if A.count(i) > 1 or i in B:\n",
    "                continue\n",
    "            else:\n",
    "                temp.append(i)\n",
    "        for i in B:\n",
    "            if B.count(i) > 1 or i in A:\n",
    "                continue\n",
    "            else:\n",
    "                temp.append(i)\n",
    "        return(temp)"
   ]
  },
  {
   "cell_type": "code",
   "execution_count": 10,
   "metadata": {},
   "outputs": [
    {
     "name": "stdout",
     "output_type": "stream",
     "text": [
      "['this', 'apple', 'is', 'sweet', 'this', 'apple', 'is', 'sour']\n"
     ]
    }
   ],
   "source": [
    "A = \"this apple is sweet\"\n",
    "B = \"this apple is sour\"\n",
    "C = A + \" \" + B\n",
    "C = C.split(\" \")\n",
    "print(C)"
   ]
  },
  {
   "cell_type": "code",
   "execution_count": null,
   "metadata": {},
   "outputs": [],
   "source": []
  }
 ],
 "metadata": {
  "kernelspec": {
   "display_name": "Python 3",
   "language": "python",
   "name": "python3"
  },
  "language_info": {
   "codemirror_mode": {
    "name": "ipython",
    "version": 3
   },
   "file_extension": ".py",
   "mimetype": "text/x-python",
   "name": "python",
   "nbconvert_exporter": "python",
   "pygments_lexer": "ipython3",
   "version": "3.7.1"
  }
 },
 "nbformat": 4,
 "nbformat_minor": 4
}
