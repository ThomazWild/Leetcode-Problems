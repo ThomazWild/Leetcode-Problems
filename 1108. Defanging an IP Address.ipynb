{
 "cells": [
  {
   "cell_type": "code",
   "execution_count": 14,
   "metadata": {},
   "outputs": [
    {
     "name": "stdout",
     "output_type": "stream",
     "text": [
      "192.168.1.1\n",
      "192.168.1.1\n",
      "['1', '9', '2', '[.]', '1', '6', '8', '[.]', '1', '[.]', '1']\n",
      "192[.]168[.]1[.]1\n"
     ]
    }
   ],
   "source": [
    "address = \"192.168.1.1\"\n",
    "print(address)\n",
    "new_address = []\n",
    "for i, w in enumerate(address):\n",
    "    if w == \".\":\n",
    "        new_address += [\"[.]\"]\n",
    "    else:\n",
    "        new_address += w\n",
    "\n",
    "\n",
    "print(address)\n",
    "print(new_address)\n",
    "print(''.join(new_address))"
   ]
  },
  {
   "cell_type": "code",
   "execution_count": 19,
   "metadata": {},
   "outputs": [
    {
     "name": "stdout",
     "output_type": "stream",
     "text": [
      "['1', '9', '2', '[.]', '1', '6', '8', '[.]', '1', '[.]', '1']\n",
      "192[.]168[.]1[.]1\n"
     ]
    }
   ],
   "source": [
    "address = \"192.168.1.1\"\n",
    "new_address = [\"[.]\" if i == '.' else i for i in address]\n",
    "print(new_address)\n",
    "print(''.join(new_address))"
   ]
  },
  {
   "cell_type": "code",
   "execution_count": null,
   "metadata": {},
   "outputs": [],
   "source": []
  }
 ],
 "metadata": {
  "kernelspec": {
   "display_name": "Python 3",
   "language": "python",
   "name": "python3"
  },
  "language_info": {
   "codemirror_mode": {
    "name": "ipython",
    "version": 3
   },
   "file_extension": ".py",
   "mimetype": "text/x-python",
   "name": "python",
   "nbconvert_exporter": "python",
   "pygments_lexer": "ipython3",
   "version": "3.7.4"
  }
 },
 "nbformat": 4,
 "nbformat_minor": 2
}
