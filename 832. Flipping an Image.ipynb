{
 "cells": [
  {
   "cell_type": "code",
   "execution_count": 31,
   "metadata": {},
   "outputs": [
    {
     "name": "stdout",
     "output_type": "stream",
     "text": [
      "[[1, 1, 0], [1, 0, 1], [0, 0, 0]]\n",
      "[[0, 0, 1], [0, 1, 0], [1, 1, 1]]\n"
     ]
    }
   ],
   "source": [
    "#Solution 1\n",
    "A = [[1, 1, 0], [1, 0, 1], [0, 0, 0]]\n",
    "\n",
    "print(A)\n",
    "\n",
    "for i,a in enumerate(A):\n",
    "    A[i] = a[::-1]\n",
    "\n",
    "for i,a in enumerate(A):\n",
    "    \n",
    "    for l,b in enumerate(a):\n",
    "        if b == 1:\n",
    "            A[i][l] = 0\n",
    "        else:\n",
    "            A[i][l] = 1\n",
    "print(A)"
   ]
  },
  {
   "cell_type": "code",
   "execution_count": 36,
   "metadata": {},
   "outputs": [
    {
     "name": "stdout",
     "output_type": "stream",
     "text": [
      "[[1, 1, 0], [1, 0, 1], [0, 0, 0]]\n",
      "[[1, 0, 0], [0, 1, 0], [1, 1, 1]]\n"
     ]
    }
   ],
   "source": [
    "#Solution 2\n",
    "A = [[1, 1, 0], [1, 0, 1], [0, 0, 0]]\n",
    "\n",
    "print(A)\n",
    "\n",
    "A = [i[::-1] for i in A]\n",
    "for i,B in enumerate(A):\n",
    "    A[i] = [1 if o == 0 else 0 for o in B]\n",
    "    \n",
    "print(A)"
   ]
  },
  {
   "cell_type": "code",
   "execution_count": 37,
   "metadata": {},
   "outputs": [
    {
     "name": "stdout",
     "output_type": "stream",
     "text": [
      "[[1, 1, 0], [1, 0, 1], [0, 0, 0]]\n",
      "[[1, 0, 0], [0, 1, 0], [1, 1, 1]]\n"
     ]
    }
   ],
   "source": [
    "#Solution 3\n",
    "A = [[1, 1, 0], [1, 0, 1], [0, 0, 0]]\n",
    "\n",
    "print(A)\n",
    "for i,a in enumerate(A):\n",
    "    for l,b in enumerate(a[::-1]):\n",
    "        if b == 1:\n",
    "            A[i][l] = 0\n",
    "        else:\n",
    "            A[i][l] = 1\n",
    "print(A)"
   ]
  },
  {
   "cell_type": "code",
   "execution_count": 35,
   "metadata": {},
   "outputs": [
    {
     "name": "stdout",
     "output_type": "stream",
     "text": [
      "[[1, 1, 0], [1, 0, 1], [0, 0, 0]]\n",
      "[[1, 0, 0], [0, 1, 0], [1, 1, 1]]\n"
     ]
    }
   ],
   "source": [
    "#Solution 4\n",
    "A = [[1, 1, 0], [1, 0, 1], [0, 0, 0]]\n",
    "\n",
    "print(A)\n",
    "\n",
    "for i,B in enumerate(A):\n",
    "    A[i] = [1 if o == 0 else 0 for o in B[::-1]]\n",
    "    \n",
    "print(A)"
   ]
  },
  {
   "cell_type": "code",
   "execution_count": 40,
   "metadata": {},
   "outputs": [
    {
     "name": "stdout",
     "output_type": "stream",
     "text": [
      "[[1, 1, 0], [1, 0, 1], [0, 0, 0]]\n",
      "[[1, 0, 0], [0, 1, 0], [1, 1, 1]]\n"
     ]
    }
   ],
   "source": [
    "#Solution 5\n",
    "A = [[1, 1, 0], [1, 0, 1], [0, 0, 0]]\n",
    "\n",
    "print(A)\n",
    "A = [[1 if o == 0 else 0 for o in i[::-1]] for i in A]\n",
    "print(A)"
   ]
  },
  {
   "cell_type": "code",
   "execution_count": null,
   "metadata": {},
   "outputs": [],
   "source": []
  }
 ],
 "metadata": {
  "kernelspec": {
   "display_name": "Python 3",
   "language": "python",
   "name": "python3"
  },
  "language_info": {
   "codemirror_mode": {
    "name": "ipython",
    "version": 3
   },
   "file_extension": ".py",
   "mimetype": "text/x-python",
   "name": "python",
   "nbconvert_exporter": "python",
   "pygments_lexer": "ipython3",
   "version": "3.7.4"
  }
 },
 "nbformat": 4,
 "nbformat_minor": 2
}
