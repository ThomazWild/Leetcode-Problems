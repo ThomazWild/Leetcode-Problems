{
 "cells": [
  {
   "cell_type": "code",
   "execution_count": 83,
   "metadata": {},
   "outputs": [],
   "source": [
    "import re\n",
    "\n",
    "\n",
    "s = \"thewolvenfire23@\"\n",
    "\n",
    "#1: 1\n",
    "def check_under(s):\n",
    "    if len(s) < 6:\n",
    "        total_missing = 6 -len(s)\n",
    "    return total_missing\n",
    "\n",
    "def check_over(s):\n",
    "    if len(s) > 20:\n",
    "        total_over = len(s) - 20   \n",
    "    return total_over\n",
    "\n",
    "#2: 2\n",
    "\n",
    "def check_number(s):\n",
    "    number = re.compile('[0-9]+')\n",
    "    fn = number.findall(s)\n",
    "    if not fn:\n",
    "        return 1\n",
    "    \n",
    "def check_number(s):\n",
    "    lowercase = re.compile('[a-z]+')\n",
    "    fcl = lowercase.findall(s)\n",
    "    if not fcl:\n",
    "        return 1\n",
    "    \n",
    "def check_number(s):\n",
    "    uppercase = re.compile('[A-Z]+')\n",
    "    ucl = uppercase.findall(s)    \n",
    "    if not ucl:\n",
    "        return 1\n",
    "    \n",
    "#3:\n",
    "def check_triple(s):\n",
    "    t = 0\n",
    "    rep = \".\"\n",
    "    for i in range(len(s) - 2):\n",
    "        if s[i] == s[i+1] and s[i+1] == s[i+2]:\n",
    "            s = s[:i+2] + rep + s[i+3:]\n",
    "            t += 1\n",
    "    return t\n",
    "    \n"
   ]
  },
  {
   "cell_type": "code",
   "execution_count": 87,
   "metadata": {},
   "outputs": [
    {
     "data": {
      "text/plain": [
       "2"
      ]
     },
     "execution_count": 87,
     "metadata": {},
     "output_type": "execute_result"
    }
   ],
   "source": [
    "s = \"111112132312313213111\"\n",
    "check_triple(s)"
   ]
  },
  {
   "cell_type": "code",
   "execution_count": 70,
   "metadata": {},
   "outputs": [
    {
     "name": "stdout",
     "output_type": "stream",
     "text": [
      "the\n",
      "te\n"
     ]
    }
   ],
   "source": [
    "s = \"the\"\n",
    "print(s)\n",
    "s = s[:1]+s[2:]\n",
    "print(s)"
   ]
  },
  {
   "cell_type": "code",
   "execution_count": 79,
   "metadata": {},
   "outputs": [
    {
     "name": "stdout",
     "output_type": "stream",
     "text": [
      "0\n",
      "1\n",
      "2\n",
      "3\n",
      "4\n",
      "5\n",
      "6\n",
      "7\n",
      "8\n",
      "9\n"
     ]
    }
   ],
   "source": [
    "for i in range(10):\n",
    "    print(i)"
   ]
  },
  {
   "cell_type": "code",
   "execution_count": null,
   "metadata": {},
   "outputs": [],
   "source": []
  }
 ],
 "metadata": {
  "kernelspec": {
   "display_name": "Python 3",
   "language": "python",
   "name": "python3"
  },
  "language_info": {
   "codemirror_mode": {
    "name": "ipython",
    "version": 3
   },
   "file_extension": ".py",
   "mimetype": "text/x-python",
   "name": "python",
   "nbconvert_exporter": "python",
   "pygments_lexer": "ipython3",
   "version": "3.7.4"
  }
 },
 "nbformat": 4,
 "nbformat_minor": 2
}
