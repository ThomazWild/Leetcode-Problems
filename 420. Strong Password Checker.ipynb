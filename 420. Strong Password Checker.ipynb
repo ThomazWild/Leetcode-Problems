{
 "cells": [
  {
   "cell_type": "code",
   "execution_count": 1,
   "metadata": {},
   "outputs": [],
   "source": [
    "import re\n",
    "\n",
    "#1: 1\n",
    "def check_under(s):\n",
    "    if len(s) < 6:\n",
    "        total_missing = 6 - len(s)\n",
    "        return total_missing\n",
    "    else:\n",
    "        return 0\n",
    "    \n",
    "def check_over(s):\n",
    "    if len(s) > 20:\n",
    "        total_over = len(s) - 20   \n",
    "        return total_over\n",
    "    else:\n",
    "        return 0\n",
    "#2: 2\n",
    "\n",
    "def check_number(s):\n",
    "    number = re.compile('[0-9]+')\n",
    "    fn = number.findall(s)\n",
    "    if not fn:\n",
    "        return 1\n",
    "    else:\n",
    "        return 0\n",
    "    \n",
    "def check_lowercase(s):\n",
    "    lowercase = re.compile('[a-z]+')\n",
    "    fcl = lowercase.findall(s)\n",
    "    if not fcl:\n",
    "        return 1\n",
    "    else:\n",
    "        return 0\n",
    "    \n",
    "def check_uppercase(s):\n",
    "    uppercase = re.compile('[A-Z]+')\n",
    "    ucl = uppercase.findall(s)    \n",
    "    if not ucl:\n",
    "        return 1\n",
    "    else:\n",
    "        return 0\n",
    "    \n",
    "#3:\n",
    "def check_triple(s):\n",
    "    t = 0\n",
    "    rep = \".\"\n",
    "    for i in range(len(s) - 2):\n",
    "        if s[i] == s[i+1] and s[i+1] == s[i+2]:\n",
    "            s = s[:i+2] + rep + s[i+3:]\n",
    "            t += 1\n",
    "    return t\n",
    "    \n"
   ]
  },
  {
   "cell_type": "code",
   "execution_count": 10,
   "metadata": {},
   "outputs": [
    {
     "name": "stdout",
     "output_type": "stream",
     "text": [
      "2\n"
     ]
    }
   ],
   "source": [
    "s = \"11111\"\n",
    "\n",
    "A = check_under(s)\n",
    "B = check_over(s)\n",
    "\n",
    "C = check_number(s)\n",
    "D = check_lowercase(s)\n",
    "E = check_uppercase(s)\n",
    "\n",
    "F = check_triple(s)\n",
    "if A:\n",
    "    if A = 2 or A = 1:\n",
    "        if C and D or D and E or C and E:\n",
    "            print(2)\n",
    "        \n",
    "    else:\n",
    "        \n",
    "        \n",
    "\n",
    "        "
   ]
  },
  {
   "cell_type": "code",
   "execution_count": null,
   "metadata": {},
   "outputs": [],
   "source": [
    "B"
   ]
  },
  {
   "cell_type": "code",
   "execution_count": 70,
   "metadata": {},
   "outputs": [
    {
     "name": "stdout",
     "output_type": "stream",
     "text": [
      "the\n",
      "te\n"
     ]
    }
   ],
   "source": [
    "s = \"the\"\n",
    "print(s)\n",
    "s = s[:1]+s[2:]\n",
    "print(s)"
   ]
  },
  {
   "cell_type": "code",
   "execution_count": 79,
   "metadata": {},
   "outputs": [
    {
     "name": "stdout",
     "output_type": "stream",
     "text": [
      "0\n",
      "1\n",
      "2\n",
      "3\n",
      "4\n",
      "5\n",
      "6\n",
      "7\n",
      "8\n",
      "9\n"
     ]
    }
   ],
   "source": [
    "for i in range(10):\n",
    "    print(i)"
   ]
  },
  {
   "cell_type": "code",
   "execution_count": null,
   "metadata": {},
   "outputs": [],
   "source": []
  }
 ],
 "metadata": {
  "kernelspec": {
   "display_name": "Python 3",
   "language": "python",
   "name": "python3"
  },
  "language_info": {
   "codemirror_mode": {
    "name": "ipython",
    "version": 3
   },
   "file_extension": ".py",
   "mimetype": "text/x-python",
   "name": "python",
   "nbconvert_exporter": "python",
   "pygments_lexer": "ipython3",
   "version": "3.7.4"
  },
  "varInspector": {
   "cols": {
    "lenName": 16,
    "lenType": 16,
    "lenVar": 40
   },
   "kernels_config": {
    "python": {
     "delete_cmd_postfix": "",
     "delete_cmd_prefix": "del ",
     "library": "var_list.py",
     "varRefreshCmd": "print(var_dic_list())"
    },
    "r": {
     "delete_cmd_postfix": ") ",
     "delete_cmd_prefix": "rm(",
     "library": "var_list.r",
     "varRefreshCmd": "cat(var_dic_list()) "
    }
   },
   "position": {
    "height": "695.5px",
    "left": "1301px",
    "right": "20px",
    "top": "120px",
    "width": "299px"
   },
   "types_to_exclude": [
    "module",
    "function",
    "builtin_function_or_method",
    "instance",
    "_Feature"
   ],
   "window_display": true
  }
 },
 "nbformat": 4,
 "nbformat_minor": 2
}
