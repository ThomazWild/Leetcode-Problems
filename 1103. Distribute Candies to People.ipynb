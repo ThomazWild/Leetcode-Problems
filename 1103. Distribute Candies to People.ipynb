{
 "cells": [
  {
   "cell_type": "code",
   "execution_count": 12,
   "metadata": {},
   "outputs": [
    {
     "name": "stdout",
     "output_type": "stream",
     "text": [
      "[1, 0, 0, 0]\n",
      "6\n",
      "[1, 2, 0, 0]\n",
      "4\n",
      "[1, 2, 3, 0]\n",
      "1\n"
     ]
    }
   ],
   "source": [
    "candies = 7\n",
    "num_people = 4\n",
    "s = [0 for i in range(num_people)]\n",
    "plus = 1\n",
    "while candies > 0:\n",
    "    for i in range(num_people):\n",
    "        if plus > candies:\n",
    "            s[i] += candies\n",
    "            candies = 0\n",
    "            break\n",
    "        s[i] += plus\n",
    "        candies -= plus\n",
    "        plus += 1\n",
    "        print(s)\n",
    "        print(candies)\n",
    "        "
   ]
  },
  {
   "cell_type": "code",
   "execution_count": null,
   "metadata": {},
   "outputs": [],
   "source": [
    "class Solution(object):\n",
    "    def distributeCandies(self, candies, num_people):\n",
    "        s = [0 for i in range(num_people)]\n",
    "        plus = 1\n",
    "        while candies > 0:\n",
    "            for i in range(num_people):\n",
    "                if plus > candies:\n",
    "                    s[i] += candies\n",
    "                    candies = 0\n",
    "                    break\n",
    "                s[i] += plus\n",
    "                candies -= plus\n",
    "                plus += 1\n",
    "        return s"
   ]
  }
 ],
 "metadata": {
  "kernelspec": {
   "display_name": "Python 3",
   "language": "python",
   "name": "python3"
  },
  "language_info": {
   "codemirror_mode": {
    "name": "ipython",
    "version": 3
   },
   "file_extension": ".py",
   "mimetype": "text/x-python",
   "name": "python",
   "nbconvert_exporter": "python",
   "pygments_lexer": "ipython3",
   "version": "3.7.4"
  },
  "varInspector": {
   "cols": {
    "lenName": 16,
    "lenType": 16,
    "lenVar": 40
   },
   "kernels_config": {
    "python": {
     "delete_cmd_postfix": "",
     "delete_cmd_prefix": "del ",
     "library": "var_list.py",
     "varRefreshCmd": "print(var_dic_list())"
    },
    "r": {
     "delete_cmd_postfix": ") ",
     "delete_cmd_prefix": "rm(",
     "library": "var_list.r",
     "varRefreshCmd": "cat(var_dic_list()) "
    }
   },
   "position": {
    "height": "386.5px",
    "left": "58px",
    "right": "20px",
    "top": "225px",
    "width": "350px"
   },
   "types_to_exclude": [
    "module",
    "function",
    "builtin_function_or_method",
    "instance",
    "_Feature"
   ],
   "window_display": true
  }
 },
 "nbformat": 4,
 "nbformat_minor": 2
}
