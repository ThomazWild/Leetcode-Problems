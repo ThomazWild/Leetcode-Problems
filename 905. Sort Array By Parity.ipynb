{
 "cells": [
  {
   "cell_type": "code",
   "execution_count": 6,
   "metadata": {},
   "outputs": [],
   "source": [
    "A = [3,1,2,4]\n",
    "\n",
    "x = []\n",
    "for i in A:\n",
    "    if i%2 == 0:\n",
    "        x = [i] + x\n",
    "    else:\n",
    "        x.append(i)"
   ]
  },
  {
   "cell_type": "code",
   "execution_count": 2,
   "metadata": {},
   "outputs": [],
   "source": [
    "x = []\n",
    "x.append(1)\n",
    "x.append(2)\n",
    "x.append(3)"
   ]
  },
  {
   "cell_type": "code",
   "execution_count": 25,
   "metadata": {},
   "outputs": [
    {
     "name": "stdout",
     "output_type": "stream",
     "text": [
      "1\n",
      "-1\n",
      "\n",
      "[2, 4, 3, 5, 1]\n"
     ]
    }
   ],
   "source": [
    "A = [3,1,2,4,5]\n",
    "l = len(A)\n",
    "x = []\n",
    "for i in range(l//2):\n",
    "    if A[i] % 2 == 0:\n",
    "        x = [A[i]] + x\n",
    "    else:\n",
    "        x.append(A[i])\n",
    "        \n",
    "    if A[-(i+1)] % 2 == 0:\n",
    "        x = [A[-(i+1)]] + x\n",
    "    else:\n",
    "        x.append(A[-(i+1)])\n",
    "if l%2 == 1:\n",
    "    if A[l//2] % 2 == 0:\n",
    "        x = [A[l//2]] + x\n",
    "    else:\n",
    "        x.append(A[l//2])\n",
    "        \n",
    "    print(i)\n",
    "    print(-i)\n",
    "    print()\n",
    "    \n",
    "print(x)"
   ]
  },
  {
   "cell_type": "code",
   "execution_count": 23,
   "metadata": {},
   "outputs": [
    {
     "name": "stdout",
     "output_type": "stream",
     "text": [
      "2\n"
     ]
    }
   ],
   "source": [
    "A = [3,1,2,4,5]\n",
    "l = len(A)\n",
    "\n",
    "print(A[l//2])"
   ]
  },
  {
   "cell_type": "code",
   "execution_count": null,
   "metadata": {},
   "outputs": [],
   "source": []
  }
 ],
 "metadata": {
  "kernelspec": {
   "display_name": "Python 3",
   "language": "python",
   "name": "python3"
  },
  "language_info": {
   "codemirror_mode": {
    "name": "ipython",
    "version": 3
   },
   "file_extension": ".py",
   "mimetype": "text/x-python",
   "name": "python",
   "nbconvert_exporter": "python",
   "pygments_lexer": "ipython3",
   "version": "3.7.4"
  },
  "varInspector": {
   "cols": {
    "lenName": 16,
    "lenType": 16,
    "lenVar": 40
   },
   "kernels_config": {
    "python": {
     "delete_cmd_postfix": "",
     "delete_cmd_prefix": "del ",
     "library": "var_list.py",
     "varRefreshCmd": "print(var_dic_list())"
    },
    "r": {
     "delete_cmd_postfix": ") ",
     "delete_cmd_prefix": "rm(",
     "library": "var_list.r",
     "varRefreshCmd": "cat(var_dic_list()) "
    }
   },
   "position": {
    "height": "340.5px",
    "left": "1246px",
    "right": "20px",
    "top": "120px",
    "width": "353px"
   },
   "types_to_exclude": [
    "module",
    "function",
    "builtin_function_or_method",
    "instance",
    "_Feature"
   ],
   "window_display": true
  }
 },
 "nbformat": 4,
 "nbformat_minor": 2
}
