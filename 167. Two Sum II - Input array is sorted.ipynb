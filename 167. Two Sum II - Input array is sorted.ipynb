{
 "cells": [
  {
   "cell_type": "code",
   "execution_count": 20,
   "metadata": {},
   "outputs": [
    {
     "name": "stdout",
     "output_type": "stream",
     "text": [
      "[1, 3]\n"
     ]
    }
   ],
   "source": [
    "s = [0,0,11,15]\n",
    "t = 11\n",
    "\n",
    "curr = 0\n",
    "left = 0\n",
    "temp = []\n",
    "for i in range(len(s)):\n",
    "    curr = s[i]\n",
    "    left = t - curr\n",
    "    try:\n",
    "        temp.append([i+1,(s[i+1:].index(left))+i+2])\n",
    "        break\n",
    "    except:\n",
    "        pass\n",
    "print(temp[0])"
   ]
  },
  {
   "cell_type": "code",
   "execution_count": 24,
   "metadata": {},
   "outputs": [
    {
     "name": "stdout",
     "output_type": "stream",
     "text": [
      "[1, 4]\n"
     ]
    }
   ],
   "source": [
    "s = [0,0,11,15]\n",
    "t = 15\n",
    "\n",
    "curr = 0\n",
    "left = 0\n",
    "temp = []\n",
    "for i in range(len(s)):\n",
    "    curr = s[i]\n",
    "    left = t - curr\n",
    "    try:\n",
    "        temp.append([i+1,(s[i+1:].index(left))+i+2])\n",
    "        break\n",
    "    except:\n",
    "        pass\n",
    "print(temp[0])"
   ]
  },
  {
   "cell_type": "code",
   "execution_count": null,
   "metadata": {},
   "outputs": [],
   "source": [
    "s = [0,0,11,15]\n",
    "t = 11"
   ]
  }
 ],
 "metadata": {
  "kernelspec": {
   "display_name": "Python 3",
   "language": "python",
   "name": "python3"
  },
  "language_info": {
   "codemirror_mode": {
    "name": "ipython",
    "version": 3
   },
   "file_extension": ".py",
   "mimetype": "text/x-python",
   "name": "python",
   "nbconvert_exporter": "python",
   "pygments_lexer": "ipython3",
   "version": "3.7.4"
  },
  "varInspector": {
   "cols": {
    "lenName": 16,
    "lenType": 16,
    "lenVar": 40
   },
   "kernels_config": {
    "python": {
     "delete_cmd_postfix": "",
     "delete_cmd_prefix": "del ",
     "library": "var_list.py",
     "varRefreshCmd": "print(var_dic_list())"
    },
    "r": {
     "delete_cmd_postfix": ") ",
     "delete_cmd_prefix": "rm(",
     "library": "var_list.r",
     "varRefreshCmd": "cat(var_dic_list()) "
    }
   },
   "types_to_exclude": [
    "module",
    "function",
    "builtin_function_or_method",
    "instance",
    "_Feature"
   ],
   "window_display": true
  }
 },
 "nbformat": 4,
 "nbformat_minor": 2
}
