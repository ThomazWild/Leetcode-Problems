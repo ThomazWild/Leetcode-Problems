{
 "cells": [
  {
   "cell_type": "code",
   "execution_count": 16,
   "metadata": {},
   "outputs": [],
   "source": [
    "def get_all_substrings(input_string):\n",
    "  length = len(input_string)\n",
    "  return [input_string[i:j+1] for i in range(length) for j in range(i,length)]\n",
    "\n",
    "def get_all_pan_substrings(input_string):\n",
    "  length = len(input_string)\n",
    "  return [input_string[i:j+1] for i in range(length) for j in range(i,length)  if input_string[i:j+1] == input_string[i:j+1][::-1]]\n"
   ]
  },
  {
   "cell_type": "code",
   "execution_count": 15,
   "metadata": {},
   "outputs": [
    {
     "name": "stdout",
     "output_type": "stream",
     "text": [
      "['b', 'bc', 'bcc', 'bccb', 'c', 'cc', 'ccb', 'c', 'cb', 'b']\n",
      "['b', 'bccb', 'c', 'cc', 'c', 'b']\n"
     ]
    }
   ],
   "source": [
    "string = 'bccb'\n",
    "\n",
    "pan = get_all_substrings(string)\n",
    "diff_pan = get_all_distinc_substrings(string)\n",
    "print(pan)\n",
    "print(diff_pan)"
   ]
  },
  {
   "cell_type": "code",
   "execution_count": null,
   "metadata": {},
   "outputs": [],
   "source": []
  }
 ],
 "metadata": {
  "kernelspec": {
   "display_name": "Python 3",
   "language": "python",
   "name": "python3"
  },
  "language_info": {
   "codemirror_mode": {
    "name": "ipython",
    "version": 3
   },
   "file_extension": ".py",
   "mimetype": "text/x-python",
   "name": "python",
   "nbconvert_exporter": "python",
   "pygments_lexer": "ipython3",
   "version": "3.7.4"
  },
  "varInspector": {
   "cols": {
    "lenName": 16,
    "lenType": 16,
    "lenVar": 40
   },
   "kernels_config": {
    "python": {
     "delete_cmd_postfix": "",
     "delete_cmd_prefix": "del ",
     "library": "var_list.py",
     "varRefreshCmd": "print(var_dic_list())"
    },
    "r": {
     "delete_cmd_postfix": ") ",
     "delete_cmd_prefix": "rm(",
     "library": "var_list.r",
     "varRefreshCmd": "cat(var_dic_list()) "
    }
   },
   "position": {
    "height": "384.5px",
    "left": "1272px",
    "right": "20px",
    "top": "458px",
    "width": "350px"
   },
   "types_to_exclude": [
    "module",
    "function",
    "builtin_function_or_method",
    "instance",
    "_Feature"
   ],
   "window_display": true
  }
 },
 "nbformat": 4,
 "nbformat_minor": 2
}
