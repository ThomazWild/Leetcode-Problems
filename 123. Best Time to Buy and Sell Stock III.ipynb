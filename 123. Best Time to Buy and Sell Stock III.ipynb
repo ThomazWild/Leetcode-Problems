{
 "cells": [
  {
   "cell_type": "code",
   "execution_count": 11,
   "metadata": {},
   "outputs": [],
   "source": [
    "def splitter(s):\n",
    "    for i in range(1, len(s)):\n",
    "        start = s[0:i]\n",
    "        end = s[i:]\n",
    "        yield (start, end)\n",
    "        for split in splitter(end):\n",
    "            result = [start]\n",
    "            result.extend(split)\n",
    "            yield result\n",
    "\n"
   ]
  },
  {
   "cell_type": "code",
   "execution_count": 12,
   "metadata": {},
   "outputs": [
    {
     "name": "stdout",
     "output_type": "stream",
     "text": [
      "[('1', '23456'), ['1', '2', '3456'], ['1', '2', '3', '456'], ['1', '2', '3', '4', '56'], ['1', '2', '3', '4', '5', '6'], ['1', '2', '3', '45', '6'], ['1', '2', '34', '56'], ['1', '2', '34', '5', '6'], ['1', '2', '345', '6'], ['1', '23', '456'], ['1', '23', '4', '56'], ['1', '23', '4', '5', '6'], ['1', '23', '45', '6'], ['1', '234', '56'], ['1', '234', '5', '6'], ['1', '2345', '6'], ('12', '3456'), ['12', '3', '456'], ['12', '3', '4', '56'], ['12', '3', '4', '5', '6'], ['12', '3', '45', '6'], ['12', '34', '56'], ['12', '34', '5', '6'], ['12', '345', '6'], ('123', '456'), ['123', '4', '56'], ['123', '4', '5', '6'], ['123', '45', '6'], ('1234', '56'), ['1234', '5', '6'], ('12345', '6')]\n"
     ]
    }
   ],
   "source": [
    "s = '123456'\n",
    "combinations = list(splitter(s))\n",
    "print(combinations)"
   ]
  },
  {
   "cell_type": "code",
   "execution_count": 5,
   "metadata": {},
   "outputs": [
    {
     "name": "stdout",
     "output_type": "stream",
     "text": [
      "[0, 2, -5, 0, 3, -2, 3]\n",
      "8\n"
     ]
    }
   ],
   "source": [
    "#Should be 6 for the first one\n",
    "\n",
    "\n",
    "s =[3,3,5,0,0,3,1,4]\n",
    "p = [(s[i+1]-s[i]) for i in range(len(s) -1 )]\n",
    "profit = [i for i in p if i > 0]\n",
    "\n",
    "print(p)\n",
    "print(sum(profit))"
   ]
  },
  {
   "cell_type": "code",
   "execution_count": 3,
   "metadata": {},
   "outputs": [],
   "source": [
    "import sys\n",
    "max = sys.maxsize\n",
    "\n",
    "def maxSubArraySum(a,size): \n",
    "    max_c = -max - 1\n",
    "    max_e = 0\n",
    "    for i in range(0, size): \n",
    "        max_e = max_e + a[i] \n",
    "        if (max_c < max_e): \n",
    "            max_c = max_e \n",
    "        if max_e < 0: \n",
    "            max_e = 0   \n",
    "    return max_c "
   ]
  },
  {
   "cell_type": "code",
   "execution_count": 6,
   "metadata": {},
   "outputs": [
    {
     "name": "stdout",
     "output_type": "stream",
     "text": [
      "4\n"
     ]
    }
   ],
   "source": [
    "print(maxSubArraySum(p,len(p)))"
   ]
  },
  {
   "cell_type": "code",
   "execution_count": 14,
   "metadata": {},
   "outputs": [
    {
     "name": "stdout",
     "output_type": "stream",
     "text": [
      "[10, 16, 20, 40, 100, 200]\n"
     ]
    }
   ],
   "source": [
    "li = [5, 8, 10, 20, 50, 100] \n",
    "su = list(map(lambda x, y: x + y, li,li))\n",
    "print(su)"
   ]
  },
  {
   "cell_type": "code",
   "execution_count": null,
   "metadata": {},
   "outputs": [],
   "source": []
  }
 ],
 "metadata": {
  "kernelspec": {
   "display_name": "Python 3",
   "language": "python",
   "name": "python3"
  },
  "language_info": {
   "codemirror_mode": {
    "name": "ipython",
    "version": 3
   },
   "file_extension": ".py",
   "mimetype": "text/x-python",
   "name": "python",
   "nbconvert_exporter": "python",
   "pygments_lexer": "ipython3",
   "version": "3.7.4"
  },
  "varInspector": {
   "cols": {
    "lenName": 16,
    "lenType": 16,
    "lenVar": 40
   },
   "kernels_config": {
    "python": {
     "delete_cmd_postfix": "",
     "delete_cmd_prefix": "del ",
     "library": "var_list.py",
     "varRefreshCmd": "print(var_dic_list())"
    },
    "r": {
     "delete_cmd_postfix": ") ",
     "delete_cmd_prefix": "rm(",
     "library": "var_list.r",
     "varRefreshCmd": "cat(var_dic_list()) "
    }
   },
   "position": {
    "height": "429.5px",
    "left": "1245px",
    "right": "20px",
    "top": "120px",
    "width": "354px"
   },
   "types_to_exclude": [
    "module",
    "function",
    "builtin_function_or_method",
    "instance",
    "_Feature"
   ],
   "window_display": true
  }
 },
 "nbformat": 4,
 "nbformat_minor": 2
}
