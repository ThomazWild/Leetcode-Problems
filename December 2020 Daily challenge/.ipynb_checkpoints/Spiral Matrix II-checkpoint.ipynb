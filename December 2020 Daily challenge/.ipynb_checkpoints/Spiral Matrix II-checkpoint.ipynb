{
 "cells": [
  {
   "cell_type": "code",
   "execution_count": null,
   "metadata": {},
   "outputs": [],
   "source": [
    "Input: n = 3\n",
    "Output: [[1,2,3],\n",
    "         [8,9,4],\n",
    "         [7,6,5]]"
   ]
  },
  {
   "cell_type": "code",
   "execution_count": 30,
   "metadata": {},
   "outputs": [
    {
     "name": "stdout",
     "output_type": "stream",
     "text": [
      "[[0, 0, 0], [0, 0, 0], [0, 0, 0]]\n",
      "3\n",
      "3\n",
      "3\n",
      "2\n",
      "2\n",
      "2\n",
      "2\n",
      "1\n",
      "1\n",
      "------\n",
      "[3, 2, 2, 1, 1]\n",
      "9\n"
     ]
    }
   ],
   "source": [
    "n = 3\n",
    "\n",
    "temp =   [[1,2,3],\n",
    "         [8,9,4],\n",
    "         [7,6,5]]\n",
    "\n",
    "zeros = [[0]*n]*n\n",
    "\n",
    "print(zeros)\n",
    "\n",
    "spiral = ['East','South','West','North']\n",
    "a = 0\n",
    "b = 0\n",
    "moves = [n]\n",
    "\n",
    "for i in range(n-1,0,-1):\n",
    "    moves.append(i)\n",
    "    moves.append(i)\n",
    "    \n",
    "for i in moves:\n",
    "    for j in range(i):\n",
    "        print(i)\n",
    "    \n",
    "print('------')\n",
    "print(moves)\n",
    "print(sum(moves))"
   ]
  },
  {
   "cell_type": "code",
   "execution_count": 68,
   "metadata": {},
   "outputs": [
    {
     "name": "stdout",
     "output_type": "stream",
     "text": [
      "[3, 2, 2, 1, 1]\n",
      "[1, 2, 3, 4, 1]\n",
      "[(3, 1), (2, 2), (2, 3), (1, 4), (1, 1)]\n",
      "------\n",
      "(3, 1)\n",
      "(2, 2)\n",
      "(2, 3)\n",
      "(1, 4)\n",
      "(1, 1)\n"
     ]
    }
   ],
   "source": [
    "spiral = ['East','South','West','North']\n",
    "\n",
    "n = 3\n",
    "temp =   [[1,2,3],\n",
    "         [8,9,4],\n",
    "         [7,6,5]]\n",
    "\n",
    "#Temp stuff\n",
    "moves = [n]\n",
    "for i in range(n-1,0,-1):\n",
    "    moves.append(i)\n",
    "    moves.append(i)\n",
    "print(moves)\n",
    "\n",
    "l = len(moves)\n",
    "\n",
    "direction = (list(range(1,5))*(int(l / 4) + (l % 4 > 0)))[:l]\n",
    "print(direction)\n",
    "\n",
    "\n",
    "tab = list(zip(moves, direction))\n",
    "print(tab)\n",
    "print('------')\n",
    "\n",
    "#actual\n",
    "\n",
    "for i in tab:\n",
    "    \n",
    "    print(i)"
   ]
  },
  {
   "cell_type": "code",
   "execution_count": 58,
   "metadata": {},
   "outputs": [
    {
     "data": {
      "text/plain": [
       "[1, 2, 3, 4, 1, 2, 3, 4, 1]"
      ]
     },
     "execution_count": 58,
     "metadata": {},
     "output_type": "execute_result"
    }
   ],
   "source": [
    "n = 9\n",
    "t = (list(range(1,5))*(int(n / 4) + (n % 4 > 0)))[:n]\n",
    "t"
   ]
  },
  {
   "cell_type": "code",
   "execution_count": 55,
   "metadata": {},
   "outputs": [
    {
     "data": {
      "text/plain": [
       "2.25"
      ]
     },
     "execution_count": 55,
     "metadata": {},
     "output_type": "execute_result"
    }
   ],
   "source": []
  },
  {
   "cell_type": "code",
   "execution_count": 56,
   "metadata": {},
   "outputs": [
    {
     "data": {
      "text/plain": [
       "3"
      ]
     },
     "execution_count": 56,
     "metadata": {},
     "output_type": "execute_result"
    }
   ],
   "source": []
  }
 ],
 "metadata": {
  "kernelspec": {
   "display_name": "Python 3",
   "language": "python",
   "name": "python3"
  },
  "language_info": {
   "codemirror_mode": {
    "name": "ipython",
    "version": 3
   },
   "file_extension": ".py",
   "mimetype": "text/x-python",
   "name": "python",
   "nbconvert_exporter": "python",
   "pygments_lexer": "ipython3",
   "version": "3.7.1"
  }
 },
 "nbformat": 4,
 "nbformat_minor": 4
}
