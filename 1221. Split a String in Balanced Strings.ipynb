{
 "cells": [
  {
   "cell_type": "code",
   "execution_count": 14,
   "metadata": {},
   "outputs": [
    {
     "name": "stdout",
     "output_type": "stream",
     "text": [
      "20\n"
     ]
    }
   ],
   "source": [
    "s = \"RLRRLLRLRL\"\n",
    "n = 0\n",
    "string = list(s[i:j+1] for i in range (len(s)) for j in range(i,len(s)))\n",
    "for i in string:\n",
    "    if i.count('R') == i.count('L'):\n",
    "        n += 1\n",
    "print(n)"
   ]
  },
  {
   "cell_type": "code",
   "execution_count": 10,
   "metadata": {},
   "outputs": [
    {
     "data": {
      "text/plain": [
       "['a',\n",
       " 'aa',\n",
       " 'aan',\n",
       " 'aana',\n",
       " 'aanan',\n",
       " 'aanana',\n",
       " 'a',\n",
       " 'an',\n",
       " 'ana',\n",
       " 'anan',\n",
       " 'anana',\n",
       " 'n',\n",
       " 'na',\n",
       " 'nan',\n",
       " 'nana',\n",
       " 'a',\n",
       " 'an',\n",
       " 'ana',\n",
       " 'n',\n",
       " 'na',\n",
       " 'a']"
      ]
     },
     "execution_count": 10,
     "metadata": {},
     "output_type": "execute_result"
    }
   ],
   "source": [
    "s = \"aanana\"\n",
    "\n",
    "list(s[i:j+1] for i in range (len(s)) for j in range(i,len(s)))\n"
   ]
  },
  {
   "cell_type": "code",
   "execution_count": 5,
   "metadata": {},
   "outputs": [],
   "source": [
    "def get_all_substrings(input_string):\n",
    "  length = len(input_string)\n",
    "  return [input_string[i:j+1] for i in range(length) for j in range(i,length)]"
   ]
  },
  {
   "cell_type": "code",
   "execution_count": 56,
   "metadata": {},
   "outputs": [
    {
     "name": "stdout",
     "output_type": "stream",
     "text": [
      "['R', 'RL', 'RLR', 'RLRR', 'RLRRL', 'RLRRLL', 'RLRRLLR', 'RLRRLLRL', 'RLRRLLRLR', 'RLRRLLRLRL', 'L', 'LR', 'LRR', 'LRRL', 'LRRLL', 'LRRLLR', 'LRRLLRL', 'LRRLLRLR', 'LRRLLRLRL', 'R', 'RR', 'RRL', 'RRLL', 'RRLLR', 'RRLLRL', 'RRLLRLR', 'RRLLRLRL', 'R', 'RL', 'RLL', 'RLLR', 'RLLRL', 'RLLRLR', 'RLLRLRL', 'L', 'LL', 'LLR', 'LLRL', 'LLRLR', 'LLRLRL', 'L', 'LR', 'LRL', 'LRLR', 'LRLRL', 'R', 'RL', 'RLR', 'RLRL', 'L', 'LR', 'LRL', 'R', 'RL', 'L']\n",
      "['RL', 'LR', 'RR', 'RRLL', 'RL', 'LL', 'LR', 'RL', 'LR', 'RL']\n"
     ]
    }
   ],
   "source": [
    "s = \"RLRRLLRLRL\"\n",
    "s2 = get_all_substrings(s)\n",
    "print(s2)\n",
    "s3 = [i for i in s2 if eliminate_bad_string(i) == True]\n",
    "print(s3)"
   ]
  },
  {
   "cell_type": "code",
   "execution_count": 9,
   "metadata": {},
   "outputs": [
    {
     "name": "stdout",
     "output_type": "stream",
     "text": [
      "True\n"
     ]
    }
   ],
   "source": [
    "def compare_LR(s):\n",
    "    a = 0\n",
    "    b = 0\n",
    "    for i in s:\n",
    "        if i == \"R\":\n",
    "            a += 1\n",
    "        if i == \"L\":\n",
    "            b += 1\n",
    "    if a == b:\n",
    "        return True\n",
    "    else: \n",
    "        return False\n",
    "        "
   ]
  },
  {
   "cell_type": "code",
   "execution_count": 10,
   "metadata": {},
   "outputs": [
    {
     "name": "stdout",
     "output_type": "stream",
     "text": [
      "20\n"
     ]
    }
   ],
   "source": [
    "total = 0\n",
    "for i in s2:\n",
    "    if compare_LR(i) == True:\n",
    "        total += 1\n",
    "        \n",
    "print(total)        "
   ]
  },
  {
   "cell_type": "code",
   "execution_count": 54,
   "metadata": {},
   "outputs": [
    {
     "name": "stdout",
     "output_type": "stream",
     "text": [
      "False\n"
     ]
    }
   ],
   "source": [
    "print(compare_LR('RR'))"
   ]
  },
  {
   "cell_type": "code",
   "execution_count": 39,
   "metadata": {},
   "outputs": [],
   "source": [
    "def eliminate_bad_string(s):\n",
    "    if len(s) % 2 == 1:\n",
    "        return False\n",
    "    else:\n",
    "        l = len(s) // 2\n",
    "        if s[:l] == l * s[0] and s[l:] == l * s[-1]:\n",
    "            return True\n",
    "        elif s[:l] == l * s[-1] and s[l:] == l * s[0]:\n",
    "            return True\n",
    "        else:\n",
    "            return False\n"
   ]
  },
  {
   "cell_type": "code",
   "execution_count": 55,
   "metadata": {},
   "outputs": [
    {
     "name": "stdout",
     "output_type": "stream",
     "text": [
      "True\n"
     ]
    }
   ],
   "source": [
    "s = 'RR'\n",
    "\n",
    "print(eliminate_bad_string(s))"
   ]
  },
  {
   "cell_type": "code",
   "execution_count": 20,
   "metadata": {},
   "outputs": [
    {
     "name": "stdout",
     "output_type": "stream",
     "text": [
      "1\n"
     ]
    }
   ],
   "source": [
    "print(5%2)"
   ]
  },
  {
   "cell_type": "code",
   "execution_count": null,
   "metadata": {},
   "outputs": [],
   "source": [
    "s = \"RLRRLLRLRL\"\n",
    "s[0]\n",
    "for i in s:\n",
    "    if s ="
   ]
  }
 ],
 "metadata": {
  "kernelspec": {
   "display_name": "Python 3",
   "language": "python",
   "name": "python3"
  },
  "language_info": {
   "codemirror_mode": {
    "name": "ipython",
    "version": 3
   },
   "file_extension": ".py",
   "mimetype": "text/x-python",
   "name": "python",
   "nbconvert_exporter": "python",
   "pygments_lexer": "ipython3",
   "version": "3.7.4"
  },
  "varInspector": {
   "cols": {
    "lenName": 16,
    "lenType": 16,
    "lenVar": 40
   },
   "kernels_config": {
    "python": {
     "delete_cmd_postfix": "",
     "delete_cmd_prefix": "del ",
     "library": "var_list.py",
     "varRefreshCmd": "print(var_dic_list())"
    },
    "r": {
     "delete_cmd_postfix": ") ",
     "delete_cmd_prefix": "rm(",
     "library": "var_list.r",
     "varRefreshCmd": "cat(var_dic_list()) "
    }
   },
   "position": {
    "height": "482.5px",
    "left": "1218px",
    "right": "20px",
    "top": "157px",
    "width": "350px"
   },
   "types_to_exclude": [
    "module",
    "function",
    "builtin_function_or_method",
    "instance",
    "_Feature"
   ],
   "window_display": true
  }
 },
 "nbformat": 4,
 "nbformat_minor": 2
}
