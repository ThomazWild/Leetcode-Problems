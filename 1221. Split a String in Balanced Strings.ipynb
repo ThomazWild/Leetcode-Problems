{
 "cells": [
  {
   "cell_type": "code",
   "execution_count": 14,
   "metadata": {},
   "outputs": [
    {
     "name": "stdout",
     "output_type": "stream",
     "text": [
      "20\n"
     ]
    }
   ],
   "source": [
    "s = \"RLRRLLRLRL\"\n",
    "n = 0\n",
    "string = list(s[i:j+1] for i in range (len(s)) for j in range(i,len(s)))\n",
    "for i in string:\n",
    "    if i.count('R') == i.count('L'):\n",
    "        n += 1\n",
    "print(n)"
   ]
  },
  {
   "cell_type": "code",
   "execution_count": 10,
   "metadata": {},
   "outputs": [
    {
     "data": {
      "text/plain": [
       "['a',\n",
       " 'aa',\n",
       " 'aan',\n",
       " 'aana',\n",
       " 'aanan',\n",
       " 'aanana',\n",
       " 'a',\n",
       " 'an',\n",
       " 'ana',\n",
       " 'anan',\n",
       " 'anana',\n",
       " 'n',\n",
       " 'na',\n",
       " 'nan',\n",
       " 'nana',\n",
       " 'a',\n",
       " 'an',\n",
       " 'ana',\n",
       " 'n',\n",
       " 'na',\n",
       " 'a']"
      ]
     },
     "execution_count": 10,
     "metadata": {},
     "output_type": "execute_result"
    }
   ],
   "source": [
    "s = \"aanana\"\n",
    "\n",
    "list(s[i:j+1] for i in range (len(s)) for j in range(i,len(s)))\n"
   ]
  },
  {
   "cell_type": "code",
   "execution_count": null,
   "metadata": {},
   "outputs": [],
   "source": []
  }
 ],
 "metadata": {
  "kernelspec": {
   "display_name": "Python 3",
   "language": "python",
   "name": "python3"
  },
  "language_info": {
   "codemirror_mode": {
    "name": "ipython",
    "version": 3
   },
   "file_extension": ".py",
   "mimetype": "text/x-python",
   "name": "python",
   "nbconvert_exporter": "python",
   "pygments_lexer": "ipython3",
   "version": "3.7.4"
  }
 },
 "nbformat": 4,
 "nbformat_minor": 2
}
