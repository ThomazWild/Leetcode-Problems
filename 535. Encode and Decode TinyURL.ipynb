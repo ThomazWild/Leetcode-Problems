{
 "cells": [
  {
   "cell_type": "code",
   "execution_count": 56,
   "metadata": {},
   "outputs": [
    {
     "name": "stdout",
     "output_type": "stream",
     "text": [
      "{'GEZS6T': 'https://leetcode.com/problems/design-tinyurl'}\n",
      "GEZS6T\n",
      "https://leetcode.com/problems/design-tinyurl\n"
     ]
    }
   ],
   "source": [
    "import random\n",
    "import string\n",
    "link = 'https://leetcode.com/problems/design-tinyurl'\n",
    "\n",
    "dick = {}\n",
    "key = ''.join(random.choices(string.ascii_uppercase + string.digits, k=6))\n",
    "dick[key] = link\n",
    "\n",
    "print(dick)\n",
    "print(key)\n",
    "\n",
    "print(dick[key])"
   ]
  },
  {
   "cell_type": "markdown",
   "metadata": {},
   "source": []
  },
  {
   "cell_type": "code",
   "execution_count": 74,
   "metadata": {},
   "outputs": [
    {
     "name": "stdout",
     "output_type": "stream",
     "text": [
      "{'L3Z3F0': 'https://leetcode.com/problems/design-tinyurl'}\n",
      "http://tinyurl.com/L3Z3F0\n",
      "https://leetcode.com/problems/design-tinyurl\n"
     ]
    }
   ],
   "source": [
    "import random\n",
    "import string\n",
    "\n",
    "class Codec:\n",
    "    def __init__(self):\n",
    "        self.vault = {}\n",
    "    def encode(self, longUrl):\n",
    "        \n",
    "        key = ''.join(random.choices(string.ascii_uppercase + string.digits, k=6))\n",
    "        self.vault[key] = link\n",
    "        \n",
    "        print(self.vault)\n",
    "        return ('http://tinyurl.com/' + key )\n",
    "\n",
    "    def decode(self, shortUrl):\n",
    "        shortUrl = shortUrl.replace('http://tinyurl.com/','')\n",
    "        return self.vault[shortUrl]\n",
    "        \n",
    "\n",
    "# Your Codec object will be instantiated and called as such:\n",
    "url = 'https://leetcode.com/problems/design-tinyurl'\n",
    "codec = Codec()\n",
    "\n",
    "x = codec.encode(url)\n",
    "print(x)\n",
    "print(codec.decode(x))"
   ]
  },
  {
   "cell_type": "code",
   "execution_count": 71,
   "metadata": {},
   "outputs": [
    {
     "name": "stdout",
     "output_type": "stream",
     "text": [
      "http://tinyurl.com/OSOZF8\n",
      "OSOZF8\n"
     ]
    }
   ],
   "source": [
    "s = 'http://tinyurl.com/OSOZF8'\n",
    "print(s)\n",
    "s = s.replace('http://tinyurl.com/','')\n",
    "print(s)"
   ]
  },
  {
   "cell_type": "code",
   "execution_count": null,
   "metadata": {},
   "outputs": [],
   "source": []
  }
 ],
 "metadata": {
  "kernelspec": {
   "display_name": "Python 3",
   "language": "python",
   "name": "python3"
  },
  "language_info": {
   "codemirror_mode": {
    "name": "ipython",
    "version": 3
   },
   "file_extension": ".py",
   "mimetype": "text/x-python",
   "name": "python",
   "nbconvert_exporter": "python",
   "pygments_lexer": "ipython3",
   "version": "3.7.4"
  }
 },
 "nbformat": 4,
 "nbformat_minor": 2
}
