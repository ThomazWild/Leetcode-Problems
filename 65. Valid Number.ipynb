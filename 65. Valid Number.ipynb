{
 "cells": [
  {
   "cell_type": "code",
   "execution_count": 49,
   "metadata": {},
   "outputs": [
    {
     "name": "stdout",
     "output_type": "stream",
     "text": [
      "[',']\n",
      "False\n"
     ]
    }
   ],
   "source": [
    "import re\n",
    "s = '., '\n",
    "\n",
    "def isNumber(s: str) -> bool:\n",
    "        counter = ['--','++','+-','-+']\n",
    "\n",
    "        if s[-1] == '-' or s[-1] == '+':\n",
    "            return False\n",
    "        \n",
    "        if s[0] == \"e\":\n",
    "            return False\n",
    "            \n",
    "        if s == \" \":\n",
    "            return False\n",
    "        \n",
    "        if ([i for i in counter if i in s]):\n",
    "            return False\n",
    "        s = re.sub(\" \",\"\",s)\n",
    "        s = re.sub(\"^.\",\"\",s)\n",
    "        s = re.sub(\"[+-]\",\"\",s)\n",
    "        s = re.sub(\"e\",\"\",s)\n",
    "        \n",
    "        print(re.findall(\"\\D\",s))\n",
    "        if (re.findall(\"\\D\",s)):\n",
    "            return False\n",
    "        else:\n",
    "            return True\n",
    "        \n",
    "print(isNumber(s))"
   ]
  },
  {
   "cell_type": "code",
   "execution_count": 43,
   "metadata": {},
   "outputs": [
    {
     "name": "stdout",
     "output_type": "stream",
     "text": [
      "yes\n"
     ]
    }
   ],
   "source": [
    "s = '1edaw4231c--'\n",
    "if '-' in s:\n",
    "    print('yes')"
   ]
  },
  {
   "cell_type": "code",
   "execution_count": null,
   "metadata": {},
   "outputs": [],
   "source": [
    "class Solution:\n",
    "    def isNumber(self, s: str) -> bool:\n",
    "        s = str(s).strip()\n",
    "        try:\n",
    "            float(s)\n",
    "            return True\n",
    "        except ValueError:\n",
    "            return False"
   ]
  },
  {
   "cell_type": "code",
   "execution_count": null,
   "metadata": {},
   "outputs": [],
   "source": []
  }
 ],
 "metadata": {
  "kernelspec": {
   "display_name": "Python 3",
   "language": "python",
   "name": "python3"
  },
  "language_info": {
   "codemirror_mode": {
    "name": "ipython",
    "version": 3
   },
   "file_extension": ".py",
   "mimetype": "text/x-python",
   "name": "python",
   "nbconvert_exporter": "python",
   "pygments_lexer": "ipython3",
   "version": "3.7.4"
  }
 },
 "nbformat": 4,
 "nbformat_minor": 2
}
