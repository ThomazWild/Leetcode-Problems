{
 "cells": [
  {
   "cell_type": "code",
   "execution_count": 17,
   "metadata": {},
   "outputs": [
    {
     "name": "stdout",
     "output_type": "stream",
     "text": [
      "1\n",
      "8\n",
      "8\n"
     ]
    }
   ],
   "source": [
    "l = [4,3,2,7,8,2,3,1]\n",
    "print(min(l))\n",
    "print(max(l))\n",
    "print(len(l))"
   ]
  },
  {
   "cell_type": "code",
   "execution_count": 16,
   "metadata": {},
   "outputs": [
    {
     "name": "stdout",
     "output_type": "stream",
     "text": [
      "{1: False, 2: False, 3: False, 4: False, 5: False, 6: False, 7: False, 8: False}\n",
      "{1: True, 2: True, 3: True, 4: True, 5: False, 6: False, 7: True, 8: True}\n"
     ]
    }
   ],
   "source": [
    "dic = {}\n",
    "for i in range(1,max(l)+1):\n",
    "    dic[i] = False\n",
    "print(dic)\n",
    "\n",
    "for i  in l:\n",
    "    if dic[i] == False:\n",
    "        dic[i] = True\n",
    "print(dic)\n",
    "temp = []\n",
    "for (key, value) in dic.items():\n",
    "    if value == False:\n",
    "        temp.append(key)\n"
   ]
  },
  {
   "cell_type": "code",
   "execution_count": 15,
   "metadata": {},
   "outputs": [
    {
     "name": "stdout",
     "output_type": "stream",
     "text": [
      "dict_keys([1, 2, 3, 4, 5, 6, 7, 8])\n"
     ]
    }
   ],
   "source": [
    "print(dic.keys())"
   ]
  },
  {
   "cell_type": "code",
   "execution_count": 26,
   "metadata": {},
   "outputs": [
    {
     "name": "stdout",
     "output_type": "stream",
     "text": [
      "{1, 2, 3, 4, 7, 8}\n",
      "{1, 2, 3, 4, 5, 6, 7, 8}\n",
      "[5, 6]\n"
     ]
    }
   ],
   "source": [
    "l = [4,3,2,7,8,2,3,1]\n",
    "s = set(l)\n",
    "x = set([ i for i in range(1,len(l)+1)])\n",
    "\n",
    "print(s)\n",
    "print(x)\n",
    "print(list(x-s))"
   ]
  },
  {
   "cell_type": "code",
   "execution_count": null,
   "metadata": {},
   "outputs": [],
   "source": []
  }
 ],
 "metadata": {
  "kernelspec": {
   "display_name": "Python 3",
   "language": "python",
   "name": "python3"
  },
  "language_info": {
   "codemirror_mode": {
    "name": "ipython",
    "version": 3
   },
   "file_extension": ".py",
   "mimetype": "text/x-python",
   "name": "python",
   "nbconvert_exporter": "python",
   "pygments_lexer": "ipython3",
   "version": "3.7.4"
  },
  "varInspector": {
   "cols": {
    "lenName": 16,
    "lenType": 16,
    "lenVar": 40
   },
   "kernels_config": {
    "python": {
     "delete_cmd_postfix": "",
     "delete_cmd_prefix": "del ",
     "library": "var_list.py",
     "varRefreshCmd": "print(var_dic_list())"
    },
    "r": {
     "delete_cmd_postfix": ") ",
     "delete_cmd_prefix": "rm(",
     "library": "var_list.r",
     "varRefreshCmd": "cat(var_dic_list()) "
    }
   },
   "position": {
    "height": "310.5px",
    "left": "1093px",
    "right": "20px",
    "top": "597px",
    "width": "444px"
   },
   "types_to_exclude": [
    "module",
    "function",
    "builtin_function_or_method",
    "instance",
    "_Feature"
   ],
   "window_display": true
  }
 },
 "nbformat": 4,
 "nbformat_minor": 2
}
