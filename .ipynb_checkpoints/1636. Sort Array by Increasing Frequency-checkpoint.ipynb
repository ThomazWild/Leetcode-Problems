{
 "cells": [
  {
   "cell_type": "code",
   "execution_count": 1,
   "metadata": {},
   "outputs": [
    {
     "name": "stdout",
     "output_type": "stream",
     "text": [
      "{1: 2, 2: 2, 3: 1}\n",
      "[(3, 1), (2, 2), (1, 2)]\n"
     ]
    },
    {
     "data": {
      "text/plain": [
       "[3, 2, 2, 1, 1]"
      ]
     },
     "execution_count": 1,
     "metadata": {},
     "output_type": "execute_result"
    }
   ],
   "source": [
    "nums = [1,1,2,2,3]\n",
    "dic = {x:nums.count(x) for x in nums}\n",
    "print(dic)\n",
    "\n",
    "foo =  (sorted(dic.items(), key=lambda item: (item[1],-item[0])))\n",
    "print(foo)\n",
    "\n",
    "total = []\n",
    "for i in foo:\n",
    "    for a in range(i[1]):\n",
    "        total.append(i[0])\n",
    "total"
   ]
  },
  {
   "cell_type": "code",
   "execution_count": null,
   "metadata": {},
   "outputs": [],
   "source": [
    "nums = [1,1,2,2,3]\n",
    "\n",
    "\n",
    "sorted(nums, key=lambda e: (nums.count(e),-e))\n"
   ]
  }
 ],
 "metadata": {
  "kernelspec": {
   "display_name": "Python 3",
   "language": "python",
   "name": "python3"
  },
  "language_info": {
   "codemirror_mode": {
    "name": "ipython",
    "version": 3
   },
   "file_extension": ".py",
   "mimetype": "text/x-python",
   "name": "python",
   "nbconvert_exporter": "python",
   "pygments_lexer": "ipython3",
   "version": "3.7.1"
  }
 },
 "nbformat": 4,
 "nbformat_minor": 4
}
