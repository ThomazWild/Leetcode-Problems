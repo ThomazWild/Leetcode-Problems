{
 "cells": [
  {
   "cell_type": "code",
   "execution_count": null,
   "metadata": {},
   "outputs": [],
   "source": [
    "Given an m x n matrix, return all elements of the matrix in spiral order.\n",
    "\n",
    " \n",
    "\n",
    "Example 1:\n",
    "\n",
    "\n",
    "Input: matrix = [[1,2,3],[4,5,6],[7,8,9]]\n",
    "Output: [1,2,3,6,9,8,7,4,5]\n",
    "Example 2:\n",
    "\n",
    "\n",
    "Input: matrix = [[1,2,3,4],[5,6,7,8],[9,10,11,12]]\n",
    "Output: [1,2,3,4,8,12,11,10,9,5,6,7]\n",
    " \n",
    "\n",
    "Constraints:\n",
    "\n",
    "m == matrix.length\n",
    "n == matrix[i].length\n",
    "1 <= m, n <= 10\n",
    "-100 <= matrix[i][j] <= 100\n",
    "\n",
    "Accepted\n",
    "433,684\n",
    "Submissions\n",
    "1,236,481"
   ]
  },
  {
   "cell_type": "code",
   "execution_count": 4,
   "metadata": {},
   "outputs": [
    {
     "name": "stdout",
     "output_type": "stream",
     "text": [
      "(2, 1)\n",
      "(2, 2)\n",
      "(2, 3)\n",
      "(1, 4)\n",
      "(1, 1)\n",
      "(1, 1)\n",
      "[[1, 2, 3], [8, 9, 4], [7, 6, 5]]\n"
     ]
    }
   ],
   "source": [
    "n = 3\n",
    "zeros = [[0 for i in range(n)] for j in range(n)]\n",
    "a = 0\n",
    "b = 0\n",
    "\n",
    "#Temp stuff\n",
    "moves = [n-1]\n",
    "for i in range(n-1,0,-1):\n",
    "    moves.append(i)\n",
    "    moves.append(i)\n",
    "\n",
    "l = len(moves)\n",
    "\n",
    "direction = (list(range(1,5))*(int(l / 4) + (l % 4 > 0)))[:l]\n",
    "tab = list(zip(moves, direction))\n",
    "tab.append((1,1))\n",
    "\n",
    "#actual\n",
    "count = 1\n",
    "for i in tab:\n",
    "    print(i)\n",
    "    for j in range(i[0]):\n",
    "        zeros[a][b] = count\n",
    "        count += 1\n",
    "        if i[1] == 1:\n",
    "            b+=1\n",
    "        if i[1] == 2:\n",
    "            a+=1\n",
    "        if i[1] == 3:\n",
    "            b-=1\n",
    "        if i[1] == 4:\n",
    "            a-=1\n",
    "\n",
    "print( zeros)"
   ]
  },
  {
   "cell_type": "code",
   "execution_count": 5,
   "metadata": {},
   "outputs": [],
   "source": [
    "matrix = [[1 ,2 ,3 ,4 ],\n",
    "          [10,11,12,5 ],\n",
    "          [9 ,8 ,7 ,6 ]]\n"
   ]
  },
  {
   "cell_type": "code",
   "execution_count": 6,
   "metadata": {},
   "outputs": [
    {
     "name": "stdout",
     "output_type": "stream",
     "text": [
      "(2, 1)\n",
      "(2, 2)\n",
      "(2, 3)\n",
      "(1, 4)\n",
      "(1, 1)\n",
      "(1, 1)\n",
      "[[1, 2, 3], [8, 9, 4], [7, 6, 5]]\n"
     ]
    }
   ],
   "source": [
    "n = 3\n",
    "a = 0\n",
    "b = 0\n",
    "\n",
    "#Temp stuff\n",
    "moves = [n-1]\n",
    "for i in range(n-1,0,-1):\n",
    "    moves.append(i)\n",
    "    moves.append(i)\n",
    "\n",
    "l = len(moves)\n",
    "\n",
    "direction = (list(range(1,5))*(int(l / 4) + (l % 4 > 0)))[:l]\n",
    "tab = list(zip(moves, direction))\n",
    "tab.append((1,1))\n",
    "\n",
    "#actual\n",
    "count = 1\n",
    "for i in tab:\n",
    "    print(i)\n",
    "    for j in range(i[0]):\n",
    "        zeros[a][b] = count\n",
    "        count += 1\n",
    "        if i[1] == 1:\n",
    "            b+=1\n",
    "        if i[1] == 2:\n",
    "            a+=1\n",
    "        if i[1] == 3:\n",
    "            b-=1\n",
    "        if i[1] == 4:\n",
    "            a-=1\n",
    "\n",
    "print( zeros)"
   ]
  },
  {
   "cell_type": "code",
   "execution_count": 7,
   "metadata": {},
   "outputs": [],
   "source": [
    "zeros = [[0 for i in range(3)] for j in range(4)]\n"
   ]
  },
  {
   "cell_type": "code",
   "execution_count": 23,
   "metadata": {},
   "outputs": [
    {
     "name": "stdout",
     "output_type": "stream",
     "text": [
      "[1, 2, 3, 4]\n",
      "9\n",
      "-------------\n",
      "1\n",
      "nan\n",
      "nan\n",
      "nan\n",
      "nan\n",
      "nan\n",
      "nan\n",
      "nan\n",
      "nan\n",
      "[[nan, 2, 3], [4, 5, 6], [7, 8, 9]]\n"
     ]
    }
   ],
   "source": [
    "m = [[1,2,3],\n",
    "      [4,5,6],\n",
    "      [7,8,9]]\n",
    "a = 0\n",
    "b = 0\n",
    "nan = float('nan')\n",
    "\n",
    "movement = 1\n",
    "direction = (list(range(1,5)))\n",
    "print(direction)\n",
    "\n",
    "\n",
    "size = len(m) * len(m[0])\n",
    "print(size)\n",
    "print('-------------')\n",
    "for i in range(size):\n",
    "    print(m[a][b])\n",
    "    m[a][b] = nan\n",
    "    \n",
    "    \n",
    "print(m)"
   ]
  },
  {
   "cell_type": "code",
   "execution_count": 31,
   "metadata": {},
   "outputs": [
    {
     "name": "stdout",
     "output_type": "stream",
     "text": [
      "12\n",
      "[4, 2, 3, 1, 2, 0]\n",
      "[(4, 1), (2, 2), (3, 3), (1, 4), (2, 1), (0, 2)]\n"
     ]
    }
   ],
   "source": [
    "N,M = 3,4\n",
    "total = N*M\n",
    "print(total)\n",
    "\n",
    "moves = []\n",
    "\n",
    "hori = M\n",
    "vert = N-1\n",
    "\n",
    "while sum(moves) < total:\n",
    "    moves.append(hori)\n",
    "    moves.append(vert)\n",
    "    hori -= 1\n",
    "    vert -= 1\n",
    "    \n",
    "\n",
    "print(moves)\n",
    "\n",
    "direction = (list(range(1,5))*(int(total / 4) + (total % 4 > 0)))[:total]\n",
    "tab = list(zip(moves, direction))\n",
    "\n",
    "print(tab)"
   ]
  },
  {
   "cell_type": "code",
   "execution_count": null,
   "metadata": {},
   "outputs": [],
   "source": []
  }
 ],
 "metadata": {
  "kernelspec": {
   "display_name": "Python 3",
   "language": "python",
   "name": "python3"
  },
  "language_info": {
   "codemirror_mode": {
    "name": "ipython",
    "version": 3
   },
   "file_extension": ".py",
   "mimetype": "text/x-python",
   "name": "python",
   "nbconvert_exporter": "python",
   "pygments_lexer": "ipython3",
   "version": "3.7.1"
  }
 },
 "nbformat": 4,
 "nbformat_minor": 4
}
