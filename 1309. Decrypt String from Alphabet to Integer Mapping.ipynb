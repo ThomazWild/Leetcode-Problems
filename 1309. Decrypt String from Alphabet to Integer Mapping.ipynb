{
 "cells": [
  {
   "cell_type": "code",
   "execution_count": 67,
   "metadata": {},
   "outputs": [
    {
     "name": "stdout",
     "output_type": "stream",
     "text": [
      "{'1': 'a', '2': 'b', '3': 'c', '4': 'd', '5': 'e', '6': 'f', '7': 'g', '8': 'h', '9': 'i', '10': 'j', '11': 'k', '12': 'l', '13': 'm', '14': 'n', '15': 'o', '16': 'p', '17': 'q', '18': 'r', '19': 's', '20': 't', '21': 'u', '22': 'v', '23': 'w', '24': 'x', '25': 'y', '26': 'z'}\n",
      "['10', '11', '1', '2']\n",
      "jkab\n"
     ]
    }
   ],
   "source": [
    "s = \"10#11#12\"\n",
    "\n",
    "\n",
    "l1 = [str(i) for i in range(1, 10)]\n",
    "l2 = [chr(i) for i in range(ord('a'), ord('i') + 1)]\n",
    "\n",
    "dic_1 = dict(zip(l1, l2))\n",
    "\n",
    "l3 = [str(i) for i in range(10, 27)]\n",
    "l4 = [chr(i) for i in range(ord('j'), ord('z') + 1)]\n",
    "\n",
    "dic_2 = dict(zip(l3, l4))\n",
    "\n",
    "dic_1.update(dic_2)\n",
    "print(dic_1)\n",
    "\n",
    "s2 = []\n",
    "\n",
    "i = 0\n",
    "while i < len(s):\n",
    "    try:\n",
    "        if s[i + 2] == \"#\":\n",
    "            s2.append(s[i:i+2])\n",
    "            i += 2\n",
    "        else:\n",
    "            s2.append(s[i])\n",
    "    except:\n",
    "        s2.append(s[i])\n",
    "        pass\n",
    "    i += 1\n",
    "    \n",
    "print(s2)\n",
    "print(''.join([dic_1[i] for i in s2]))"
   ]
  },
  {
   "cell_type": "code",
   "execution_count": 62,
   "metadata": {},
   "outputs": [
    {
     "ename": "KeyError",
     "evalue": "'10#'",
     "output_type": "error",
     "traceback": [
      "\u001b[1;31m---------------------------------------------------------------------------\u001b[0m",
      "\u001b[1;31mKeyError\u001b[0m                                  Traceback (most recent call last)",
      "\u001b[1;32m<ipython-input-62-d57446c0d6f7>\u001b[0m in \u001b[0;36m<module>\u001b[1;34m\u001b[0m\n\u001b[1;32m----> 1\u001b[1;33m \u001b[0mprint\u001b[0m\u001b[1;33m(\u001b[0m\u001b[0mdic_1\u001b[0m\u001b[1;33m[\u001b[0m\u001b[1;34m'10#'\u001b[0m\u001b[1;33m]\u001b[0m\u001b[1;33m)\u001b[0m\u001b[1;33m\u001b[0m\u001b[1;33m\u001b[0m\u001b[0m\n\u001b[0m",
      "\u001b[1;31mKeyError\u001b[0m: '10#'"
     ]
    }
   ],
   "source": [
    "print(dic_1['10#'])"
   ]
  },
  {
   "cell_type": "code",
   "execution_count": 68,
   "metadata": {},
   "outputs": [],
   "source": [
    "class Solution(object):\n",
    "    def freqAlphabets(self, s):\n",
    "\n",
    "        l1 = [str(i) for i in range(1, 27)]\n",
    "        l2 = [chr(i) for i in range(ord('a'), ord('z') + 1)]\n",
    "\n",
    "        dic_1 = dict(zip(l1, l2))\n",
    "\n",
    "        s2 = []\n",
    "\n",
    "        i = 0\n",
    "        while i < len(s):\n",
    "            try:\n",
    "                if s[i + 2] == \"#\":\n",
    "                    s2.append(s[i:i+2])\n",
    "                    i += 2\n",
    "                else:\n",
    "                    s2.append(s[i])\n",
    "            except:\n",
    "                s2.append(s[i])\n",
    "                pass\n",
    "            i += 1\n",
    "\n",
    "        return (''.join([dic_1[i] for i in s2]))\n",
    "        "
   ]
  },
  {
   "cell_type": "code",
   "execution_count": null,
   "metadata": {},
   "outputs": [],
   "source": []
  }
 ],
 "metadata": {
  "kernelspec": {
   "display_name": "Python 3",
   "language": "python",
   "name": "python3"
  },
  "language_info": {
   "codemirror_mode": {
    "name": "ipython",
    "version": 3
   },
   "file_extension": ".py",
   "mimetype": "text/x-python",
   "name": "python",
   "nbconvert_exporter": "python",
   "pygments_lexer": "ipython3",
   "version": "3.7.4"
  },
  "varInspector": {
   "cols": {
    "lenName": 16,
    "lenType": 16,
    "lenVar": 40
   },
   "kernels_config": {
    "python": {
     "delete_cmd_postfix": "",
     "delete_cmd_prefix": "del ",
     "library": "var_list.py",
     "varRefreshCmd": "print(var_dic_list())"
    },
    "r": {
     "delete_cmd_postfix": ") ",
     "delete_cmd_prefix": "rm(",
     "library": "var_list.r",
     "varRefreshCmd": "cat(var_dic_list()) "
    }
   },
   "position": {
    "height": "446.5px",
    "left": "1241px",
    "right": "20px",
    "top": "120px",
    "width": "358px"
   },
   "types_to_exclude": [
    "module",
    "function",
    "builtin_function_or_method",
    "instance",
    "_Feature"
   ],
   "window_display": true
  }
 },
 "nbformat": 4,
 "nbformat_minor": 2
}
