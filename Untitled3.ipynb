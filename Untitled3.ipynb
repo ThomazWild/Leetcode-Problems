{
 "cells": [
  {
   "cell_type": "code",
   "execution_count": 43,
   "metadata": {},
   "outputs": [
    {
     "name": "stdout",
     "output_type": "stream",
     "text": [
      "fwvsrqpcxo\n",
      "s\n",
      "srqpcxo\n",
      "-------\n",
      "srqpcxo\n",
      "sq\n",
      "qpcxo\n",
      "-------\n",
      "qpcxo\n",
      "sqp\n",
      "pcxo\n",
      "-------\n",
      "sqp\n"
     ]
    }
   ],
   "source": [
    "L1 = \"shmtulqrypy\"\n",
    "L2 = \"oxcpqrsvwf\"\n",
    "\n",
    "L2 = L2[::-1]\n",
    "\n",
    "\n",
    "temp = ''\n",
    "for i  in L1:\n",
    "    if i in L2 and not i in temp:\n",
    "        temp += i\n",
    "        print(L2)\n",
    "        L2 = L2[L2.find(i):]\n",
    "        print(temp)\n",
    "        print(L2)\n",
    "        print('-------')\n",
    "\n",
    "\n",
    "print(temp)"
   ]
  },
  {
   "cell_type": "code",
   "execution_count": 26,
   "metadata": {},
   "outputs": [
    {
     "name": "stdout",
     "output_type": "stream",
     "text": [
      "3\n"
     ]
    }
   ],
   "source": [
    "L1 = \"ubmrapg\"\n",
    "print(L1.find('r'))"
   ]
  },
  {
   "cell_type": "code",
   "execution_count": null,
   "metadata": {},
   "outputs": [],
   "source": []
  }
 ],
 "metadata": {
  "kernelspec": {
   "display_name": "Python 3",
   "language": "python",
   "name": "python3"
  },
  "language_info": {
   "codemirror_mode": {
    "name": "ipython",
    "version": 3
   },
   "file_extension": ".py",
   "mimetype": "text/x-python",
   "name": "python",
   "nbconvert_exporter": "python",
   "pygments_lexer": "ipython3",
   "version": "3.7.4"
  },
  "varInspector": {
   "cols": {
    "lenName": 16,
    "lenType": 16,
    "lenVar": 40
   },
   "kernels_config": {
    "python": {
     "delete_cmd_postfix": "",
     "delete_cmd_prefix": "del ",
     "library": "var_list.py",
     "varRefreshCmd": "print(var_dic_list())"
    },
    "r": {
     "delete_cmd_postfix": ") ",
     "delete_cmd_prefix": "rm(",
     "library": "var_list.r",
     "varRefreshCmd": "cat(var_dic_list()) "
    }
   },
   "position": {
    "height": "435.5px",
    "left": "1250px",
    "right": "20px",
    "top": "120px",
    "width": "350px"
   },
   "types_to_exclude": [
    "module",
    "function",
    "builtin_function_or_method",
    "instance",
    "_Feature"
   ],
   "window_display": true
  }
 },
 "nbformat": 4,
 "nbformat_minor": 2
}
