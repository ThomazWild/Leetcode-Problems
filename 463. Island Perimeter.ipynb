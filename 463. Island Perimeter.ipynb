{
 "cells": [
  {
   "cell_type": "code",
   "execution_count": 6,
   "metadata": {},
   "outputs": [
    {
     "name": "stdout",
     "output_type": "stream",
     "text": [
      "0\n",
      "1\n",
      "2\n",
      "3\n",
      "4\n",
      "5\n",
      "6\n",
      "7\n",
      "8\n",
      "9\n",
      "10\n",
      "11\n",
      "12\n",
      "13\n",
      "14\n",
      "15\n",
      "0\n"
     ]
    }
   ],
   "source": [
    "grid = [[0,1,0,0],\n",
    "        [1,1,1,0],\n",
    "        [0,1,0,0],\n",
    "        [1,1,0,0]]\n",
    "\n",
    "for i in range(len(grid)* len(grid[0])):\n",
    "            print(i)\n",
    "print(grid[0][3])"
   ]
  },
  {
   "cell_type": "code",
   "execution_count": 15,
   "metadata": {},
   "outputs": [
    {
     "name": "stdout",
     "output_type": "stream",
     "text": [
      "0 1 0 0 \n",
      "1 1 1 0 \n",
      "0 1 0 0 \n",
      "1 1 0 0 \n"
     ]
    }
   ],
   "source": [
    "for a in range(len(grid)):\n",
    "    for b in range(len(grid[0])):\n",
    "           print(grid[a][b], end = ' ')\n",
    "    print(end = \"\\n\")"
   ]
  },
  {
   "cell_type": "code",
   "execution_count": 39,
   "metadata": {},
   "outputs": [
    {
     "name": "stdout",
     "output_type": "stream",
     "text": [
      "0 1 - 0 0 \n",
      "1 - 1 - - - - 1 - 0 \n",
      "0 1 - - 0 0 \n",
      "1 - 1 - - 0 0 \n",
      "16\n"
     ]
    }
   ],
   "source": [
    "total = 0\n",
    "for a in range(len(grid)):\n",
    "    for b in range(len(grid[0])):\n",
    "        print(grid[a][b], end = ' ')\n",
    "        plus = 4\n",
    "        if grid[a][b] == 1:\n",
    "            #top\n",
    "            if a == 0:\n",
    "                pass\n",
    "            else:\n",
    "                if grid[a-1][b] == 1:\n",
    "                    print(\"-\", end = \" \")\n",
    "                    plus -= 1\n",
    "            #bottom\n",
    "            if a+1 == len(grid):\n",
    "                pass\n",
    "            else:\n",
    "                if grid[a+1][b] == 1:\n",
    "                    print(\"-\", end = \" \")\n",
    "                    plus -= 1\n",
    "            #left\n",
    "            if b == 0:\n",
    "                pass\n",
    "            else:\n",
    "                if grid[a][b-1] == 1:\n",
    "                    print(\"-\", end = \" \")\n",
    "                    plus -= 1\n",
    "            #right\n",
    "            if b+1 == len(grid[0]):\n",
    "                pass\n",
    "            else:\n",
    "                if grid[a][b+1] == 1:\n",
    "                    print(\"-\", end = \" \")\n",
    "                    plus -= 1\n",
    "            \n",
    "            total += plus\n",
    "        \n",
    "        \n",
    "        \n",
    "        \n",
    "        \n",
    "        \n",
    "        \n",
    "            \n",
    "            \n",
    "            \n",
    "            \n",
    "    print(end = \"\\n\")\n",
    "    \n",
    "print(total)"
   ]
  }
 ],
 "metadata": {
  "kernelspec": {
   "display_name": "Python 3",
   "language": "python",
   "name": "python3"
  },
  "language_info": {
   "codemirror_mode": {
    "name": "ipython",
    "version": 3
   },
   "file_extension": ".py",
   "mimetype": "text/x-python",
   "name": "python",
   "nbconvert_exporter": "python",
   "pygments_lexer": "ipython3",
   "version": "3.7.1"
  }
 },
 "nbformat": 4,
 "nbformat_minor": 4
}
