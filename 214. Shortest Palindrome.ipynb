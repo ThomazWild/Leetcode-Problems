{
 "cells": [
  {
   "cell_type": "code",
   "execution_count": 5,
   "metadata": {},
   "outputs": [],
   "source": [
    "def get_all_substrings(input_string):\n",
    "  length = len(input_string)\n",
    "  return [input_string[i:j+1] for i in range(length) for j in range(i,length)]"
   ]
  },
  {
   "cell_type": "code",
   "execution_count": 6,
   "metadata": {},
   "outputs": [
    {
     "data": {
      "text/plain": [
       "['b',\n",
       " 'ba',\n",
       " 'ban',\n",
       " 'bana',\n",
       " 'banan',\n",
       " 'banana',\n",
       " 'a',\n",
       " 'an',\n",
       " 'ana',\n",
       " 'anan',\n",
       " 'anana',\n",
       " 'n',\n",
       " 'na',\n",
       " 'nan',\n",
       " 'nana',\n",
       " 'a',\n",
       " 'an',\n",
       " 'ana',\n",
       " 'n',\n",
       " 'na',\n",
       " 'a']"
      ]
     },
     "execution_count": 6,
     "metadata": {},
     "output_type": "execute_result"
    }
   ],
   "source": [
    "def get_all_palin_substring(input_string):\n",
    "  length = len(input_string)\n",
    "  return [input_string[i:j+1] for i in range(length) for j in range(i,length)]"
   ]
  },
  {
   "cell_type": "code",
   "execution_count": 36,
   "metadata": {},
   "outputs": [
    {
     "name": "stdout",
     "output_type": "stream",
     "text": [
      "['a', 'aa', 'aan', 'aana', 'a', 'an', 'ana', 'n', 'na', 'a']\n",
      "['a', 'aa', 'aan', 'aana', 'a', 'an', 'ana', 'n', 'na', 'a']\n",
      "['a', 'aa', 'a', 'ana', 'n', 'a']\n",
      "a\n"
     ]
    }
   ],
   "source": [
    "s = 'aana'\n",
    "substrings = get_all_substrings(s)\n",
    "\n",
    "print(substrings)\n",
    "new = []\n",
    "for i,w in enumerate(substrings):\n",
    "    if w == w[::-1]:\n",
    "        new.append(w)\n",
    "\n",
    "print(substrings)\n",
    "print(new)\n",
    "\n",
    "m = max(new, key = len)\n",
    "\n",
    "idex = s.find(m)\n",
    "lenth = len(m)\n",
    "over = \n",
    "print(s[:1] + m \n"
   ]
  },
  {
   "cell_type": "code",
   "execution_count": 21,
   "metadata": {},
   "outputs": [
    {
     "name": "stdout",
     "output_type": "stream",
     "text": [
      "yes\n"
     ]
    }
   ],
   "source": [
    "s = 'ana'\n",
    "if s == s[::-1]:\n",
    "    print('yes')"
   ]
  },
  {
   "cell_type": "code",
   "execution_count": null,
   "metadata": {},
   "outputs": [],
   "source": []
  }
 ],
 "metadata": {
  "kernelspec": {
   "display_name": "Python 3",
   "language": "python",
   "name": "python3"
  },
  "language_info": {
   "codemirror_mode": {
    "name": "ipython",
    "version": 3
   },
   "file_extension": ".py",
   "mimetype": "text/x-python",
   "name": "python",
   "nbconvert_exporter": "python",
   "pygments_lexer": "ipython3",
   "version": "3.7.4"
  },
  "varInspector": {
   "cols": {
    "lenName": 16,
    "lenType": 16,
    "lenVar": 40
   },
   "kernels_config": {
    "python": {
     "delete_cmd_postfix": "",
     "delete_cmd_prefix": "del ",
     "library": "var_list.py",
     "varRefreshCmd": "print(var_dic_list())"
    },
    "r": {
     "delete_cmd_postfix": ") ",
     "delete_cmd_prefix": "rm(",
     "library": "var_list.r",
     "varRefreshCmd": "cat(var_dic_list()) "
    }
   },
   "position": {
    "height": "409.5px",
    "left": "1107px",
    "right": "20px",
    "top": "-18px",
    "width": "512px"
   },
   "types_to_exclude": [
    "module",
    "function",
    "builtin_function_or_method",
    "instance",
    "_Feature"
   ],
   "window_display": true
  }
 },
 "nbformat": 4,
 "nbformat_minor": 2
}
