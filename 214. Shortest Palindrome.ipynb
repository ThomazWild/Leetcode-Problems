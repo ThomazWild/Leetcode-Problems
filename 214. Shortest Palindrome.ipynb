{
 "cells": [
  {
   "cell_type": "code",
   "execution_count": 3,
   "metadata": {},
   "outputs": [],
   "source": [
    "def get_all_substrings(input_string):\n",
    "  length = len(input_string)\n",
    "  return [input_string[i:j+1] for i in range(length) for j in range(i,length)]"
   ]
  },
  {
   "cell_type": "code",
   "execution_count": 4,
   "metadata": {},
   "outputs": [],
   "source": [
    "def get_all_palin_substring(input_string):\n",
    "  length = len(input_string)\n",
    "  return [input_string[i:j+1] for i in range(length) for j in range(i,length)]"
   ]
  },
  {
   "cell_type": "code",
   "execution_count": 21,
   "metadata": {},
   "outputs": [
    {
     "name": "stdout",
     "output_type": "stream",
     "text": [
      "['b', 'ba', 'ban', 'bana', 'banan', 'banana', 'a', 'an', 'ana', 'anan', 'anana', 'n', 'na', 'nan', 'nana', 'a', 'an', 'ana', 'n', 'na', 'a']\n",
      "----------------------\n",
      "['ana', 'anana', 'nan', 'ana']\n",
      "[1, 1, 2, 1]\n",
      "{'ana': 1, 'anana': 1, 'nan': 2}\n"
     ]
    }
   ],
   "source": [
    "s = 'banana'\n",
    "substrings = get_all_substrings(s)\n",
    "new = []\n",
    "for i,w in enumerate(substrings):\n",
    "    if w == w[::-1]:\n",
    "        new.append(w)\n",
    "\n",
    "print(substrings)\n",
    "print('----------------------')\n",
    "\n",
    "new = [x for x in new if len(x)!=1]\n",
    "\n",
    "        \n",
    "print(new)\n",
    "m = max(new, key = len)\n",
    "\n",
    "\n",
    "index_list = [s.find(i) for i in new]    \n",
    "\n",
    "print(index_list)\n",
    "\n",
    "dic = dict(zip(new,index_list))\n",
    "\n",
    "print(dic)"
   ]
  },
  {
   "cell_type": "code",
   "execution_count": 6,
   "metadata": {},
   "outputs": [
    {
     "name": "stdout",
     "output_type": "stream",
     "text": [
      "yes\n"
     ]
    }
   ],
   "source": [
    "s = 'ana'\n",
    "if s == s[::-1]:\n",
    "    print('yes')"
   ]
  },
  {
   "cell_type": "code",
   "execution_count": null,
   "metadata": {},
   "outputs": [],
   "source": []
  }
 ],
 "metadata": {
  "kernelspec": {
   "display_name": "Python 3",
   "language": "python",
   "name": "python3"
  },
  "language_info": {
   "codemirror_mode": {
    "name": "ipython",
    "version": 3
   },
   "file_extension": ".py",
   "mimetype": "text/x-python",
   "name": "python",
   "nbconvert_exporter": "python",
   "pygments_lexer": "ipython3",
   "version": "3.7.4"
  },
  "varInspector": {
   "cols": {
    "lenName": 16,
    "lenType": 16,
    "lenVar": 40
   },
   "kernels_config": {
    "python": {
     "delete_cmd_postfix": "",
     "delete_cmd_prefix": "del ",
     "library": "var_list.py",
     "varRefreshCmd": "print(var_dic_list())"
    },
    "r": {
     "delete_cmd_postfix": ") ",
     "delete_cmd_prefix": "rm(",
     "library": "var_list.r",
     "varRefreshCmd": "cat(var_dic_list()) "
    }
   },
   "position": {
    "height": "409.5px",
    "left": "1107px",
    "right": "20px",
    "top": "-18px",
    "width": "512px"
   },
   "types_to_exclude": [
    "module",
    "function",
    "builtin_function_or_method",
    "instance",
    "_Feature"
   ],
   "window_display": true
  }
 },
 "nbformat": 4,
 "nbformat_minor": 2
}
