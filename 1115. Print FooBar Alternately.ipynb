{
 "cells": [
  {
   "cell_type": "code",
   "execution_count": 1,
   "metadata": {},
   "outputs": [],
   "source": [
    "import threading \n",
    "\n",
    "\n",
    "class FooBar(object):\n",
    "    thread_1 = threading.Event()\n",
    "    thread_2 = threading.Event()\n",
    "    thread_2.set()\n",
    "    def __init__(self, n):\n",
    "        self.n = n\n",
    "    \n",
    "    \n",
    "\n",
    "    def foo(self, printFoo):\n",
    "        \"\"\"\n",
    "        :type printFoo: method\n",
    "        :rtype: void\n",
    "        \"\"\"\n",
    "        for i in xrange(self.n):\n",
    "            \n",
    "            self.thread_2.wait()\n",
    "            # printFoo() outputs \"foo\". Do not change or remove this line.\n",
    "            printFoo()\n",
    "            self.thread_2.clear()\n",
    "            self.thread_1.set()\n",
    "\n",
    "\n",
    "    def bar(self, printBar):\n",
    "        \"\"\"\n",
    "        :type printBar: method\n",
    "        :rtype: void\n",
    "        \"\"\"\n",
    "        for i in xrange(self.n):\n",
    "            \n",
    "            self.thread_1.wait()\n",
    "            # printBar() outputs \"bar\". Do not change or remove this line.\n",
    "            printBar()\n",
    "            self.thread_1.clear()\n",
    "            self.thread_2.set()"
   ]
  },
  {
   "cell_type": "code",
   "execution_count": null,
   "metadata": {},
   "outputs": [],
   "source": []
  }
 ],
 "metadata": {
  "kernelspec": {
   "display_name": "Python 3",
   "language": "python",
   "name": "python3"
  },
  "language_info": {
   "codemirror_mode": {
    "name": "ipython",
    "version": 3
   },
   "file_extension": ".py",
   "mimetype": "text/x-python",
   "name": "python",
   "nbconvert_exporter": "python",
   "pygments_lexer": "ipython3",
   "version": "3.7.4"
  }
 },
 "nbformat": 4,
 "nbformat_minor": 2
}
