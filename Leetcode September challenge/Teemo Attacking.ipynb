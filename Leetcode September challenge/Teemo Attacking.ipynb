{
 "cells": [
  {
   "cell_type": "code",
   "execution_count": 1,
   "metadata": {},
   "outputs": [
    {
     "ename": "SyntaxError",
     "evalue": "invalid syntax (<ipython-input-1-7e01d3964d81>, line 1)",
     "output_type": "error",
     "traceback": [
      "\u001b[1;36m  File \u001b[1;32m\"<ipython-input-1-7e01d3964d81>\"\u001b[1;36m, line \u001b[1;32m1\u001b[0m\n\u001b[1;33m    In LOL world, there is a hero called Teemo and his attacking can make his enemy Ashe be in poisoned condition. Now, given the Teemo's attacking ascending time series towards Ashe and the poisoning time duration per Teemo's attacking, you need to output the total time that Ashe is in poisoned condition.\u001b[0m\n\u001b[1;37m         ^\u001b[0m\n\u001b[1;31mSyntaxError\u001b[0m\u001b[1;31m:\u001b[0m invalid syntax\n"
     ]
    }
   ],
   "source": [
    "In LOL world, there is a hero called Teemo and his attacking can make his enemy Ashe be in poisoned condition. Now, given the Teemo's attacking ascending time series towards Ashe and the poisoning time duration per Teemo's attacking, you need to output the total time that Ashe is in poisoned condition.\n",
    "\n",
    "You may assume that Teemo attacks at the very beginning of a specific time point, and makes Ashe be in poisoned condition immediately."
   ]
  },
  {
   "cell_type": "code",
   "execution_count": null,
   "metadata": {},
   "outputs": [],
   "source": [
    "class Solution(object):\n",
    "    def findPoisonedDuration(self, t, duration):\n",
    "        \"\"\"\n",
    "        :type timeSeries: List[int]\n",
    "        :type duration: int\n",
    "        :rtype: int\n",
    "        \"\"\"\n",
    "        total = 0\n",
    "        curr = 0\n",
    "        #Unique cases:\n",
    "        if len(t) == 0:\n",
    "            return 0\n",
    "        if len(t) == 1:\n",
    "            return duration\n",
    "        for i in range(len(t)-1):\n",
    "            curr = t[i+1]-t[i]\n",
    "            if curr >= duration:\n",
    "                total += duration\n",
    "            else:\n",
    "                total += curr\n",
    "            \n",
    "        print(total + duration)    \n",
    "        \n",
    "        #l = [t[i+1]-t[i] for i in range(len(t)-1)]\n",
    "        #print(l)\n",
    "        \n",
    "        return(total + duration)"
   ]
  }
 ],
 "metadata": {
  "kernelspec": {
   "display_name": "Python 3",
   "language": "python",
   "name": "python3"
  },
  "language_info": {
   "codemirror_mode": {
    "name": "ipython",
    "version": 3
   },
   "file_extension": ".py",
   "mimetype": "text/x-python",
   "name": "python",
   "nbconvert_exporter": "python",
   "pygments_lexer": "ipython3",
   "version": "3.7.1"
  }
 },
 "nbformat": 4,
 "nbformat_minor": 4
}
